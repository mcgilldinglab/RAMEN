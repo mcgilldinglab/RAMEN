{
 "cells": [
  {
   "cell_type": "code",
   "execution_count": 3,
   "id": "e8f3d1e1-8027-4e79-a37f-09c26613d830",
   "metadata": {},
   "outputs": [],
   "source": [
    "from InitializeGraph import InitializeRandomWalkGraph \n",
    "import ArraySaver as As"
   ]
  },
  {
   "cell_type": "code",
   "execution_count": 4,
   "id": "9855170d-5772-43b4-8003-bdd934b886be",
   "metadata": {},
   "outputs": [],
   "source": [
    "long_cov = InitializeRandomWalkGraph( \"csv/long_cov_out.csv\" )\n",
    "\n",
    "m_info_array = As.LoadArrayFromFile( \"mutual_info/long_cov_out.npy\" )"
   ]
  },
  {
   "cell_type": "code",
   "execution_count": 8,
   "id": "3d1b15ee-2576-44f5-aede-afb7182a12a2",
   "metadata": {},
   "outputs": [],
   "source": [
    "end_string = \"Long Covid\"\n",
    "\n",
    "vertices = list( long_cov.vs )\n",
    "\n",
    "end_index = 0\n",
    "for i in range( len( vertices ) ):\n",
    "    if ( vertices[ i ][ 'clinic_vars'] == end_string ):\n",
    "        end_index = i\n",
    "        break"
   ]
  },
  {
   "cell_type": "code",
   "execution_count": 7,
   "id": "553eb1d4-7958-4d2f-92cf-d08396af1cbe",
   "metadata": {},
   "outputs": [
    {
     "data": {
      "text/plain": [
       "80"
      ]
     },
     "execution_count": 7,
     "metadata": {},
     "output_type": "execute_result"
    }
   ],
   "source": [
    "end_index"
   ]
  },
  {
   "cell_type": "code",
   "execution_count": 11,
   "id": "5dcb6dd5-73e9-4b5d-98f8-a611793a83ee",
   "metadata": {},
   "outputs": [
    {
     "name": "stdout",
     "output_type": "stream",
     "text": [
      "[[2.70798891 0.03888673 0.05071357 ... 0.2270499  0.03888673 0.06735738]\n",
      " [0.03888673 0.94697712 0.1670284  ... 0.19114893 0.03888673 0.03888673]\n",
      " [0.05071357 0.1670284  0.74049129 ... 0.23261648 0.03888673 0.03888673]\n",
      " ...\n",
      " [0.2270499  0.19114893 0.23261648 ... 1.91153399 0.3548872  0.35976283]\n",
      " [0.03888673 0.03888673 0.03888673 ... 0.3548872  0.94697712 0.03888673]\n",
      " [0.06735738 0.03888673 0.03888673 ... 0.35976283 0.03888673 1.58343953]]\n"
     ]
    }
   ],
   "source": [
    "print( m_info_array )"
   ]
  },
  {
   "cell_type": "code",
   "execution_count": 1,
   "id": "9bc5f3f7-3e98-44cb-9683-257d4affdf1b",
   "metadata": {},
   "outputs": [],
   "source": [
    "#import pickle\n",
    "\n",
    "#file = open( \"varRef/sev_ref.pickle\", \"rb\" )\n",
    "#mapping = pickle.load( file )\n",
    "#mapping"
   ]
  },
  {
   "cell_type": "code",
   "execution_count": 6,
   "id": "c80e1deb-543a-46ab-b413-ada7594c2752",
   "metadata": {},
   "outputs": [
    {
     "data": {
      "text/plain": [
       "0.03289011577498724"
      ]
     },
     "execution_count": 6,
     "metadata": {},
     "output_type": "execute_result"
    }
   ],
   "source": [
    "import pandas as pd\n",
    "from pyitlib import discrete_random_variable as drv \n",
    "\n",
    "end_string = \"If a screening test for SARS-CoV-2 by PCR was performed, what is the most severe severity level (according to WHO) achieved?\"\n",
    "df = pd.read_csv( \"csv/sev_in.csv\" )\n",
    "vector1 = df[ \"Baseline creatinine:\" ]\n",
    "vector2 = df[ end_string ]\n",
    "mask = ( vector1 != -999 ) * ( vector2 != -999 )\n",
    "x1 = vector1[ mask ]\n",
    "x2 = vector2[ mask ]\n",
    "mi = drv.entropy( x1 ) - drv.entropy_conditional( x1, x2 )\n",
    "mi"
   ]
  },
  {
   "cell_type": "code",
   "execution_count": null,
   "id": "edce5841-c6e3-48e5-9a24-e2d59f6822b8",
   "metadata": {},
   "outputs": [],
   "source": []
  }
 ],
 "metadata": {
  "kernelspec": {
   "display_name": "Python 3 (ipykernel)",
   "language": "python",
   "name": "python3"
  },
  "language_info": {
   "codemirror_mode": {
    "name": "ipython",
    "version": 3
   },
   "file_extension": ".py",
   "mimetype": "text/x-python",
   "name": "python",
   "nbconvert_exporter": "python",
   "pygments_lexer": "ipython3",
   "version": "3.8.10"
  }
 },
 "nbformat": 4,
 "nbformat_minor": 5
}
