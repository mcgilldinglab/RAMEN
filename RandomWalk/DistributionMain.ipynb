{
 "cells": [
  {
   "cell_type": "code",
   "execution_count": 1,
   "id": "3680a4f4-b1a9-4b57-8b58-1cb179cf41c1",
   "metadata": {},
   "outputs": [],
   "source": [
    "from Distribution import FitAndExtractSignificantEdges\n",
    "import copy"
   ]
  },
  {
   "cell_type": "code",
   "execution_count": 2,
   "id": "38323af4-172e-4a32-9037-f4b999faa6dc",
   "metadata": {},
   "outputs": [
    {
     "name": "stdout",
     "output_type": "stream",
     "text": [
      "Optimization terminated successfully.\n",
      "         Current function value: 5.183416\n",
      "         Iterations: 12\n",
      "         Function evaluations: 13\n",
      "         Gradient evaluations: 13\n"
     ]
    }
   ],
   "source": [
    "#FitAndExtractSignificantEdges( \"csv/sev_benchmarking3.csv\", \"random_walk_result/sev_benchmarking_result.npy\", \"random_walk_result/sev_random_benchmark_result.npy\")\n",
    "#FitAndExtractSignificantEdges( \"csv/long_cov_benchmarking2.csv\", \"random_walk_result/long_cov_benchmarking_result.npy\", \"random_walk_result/long_cov_random_benchmarking_result.npy\" )\n",
    "#FitAndExtractSignificantEdges( \"csv/sev_in.csv\", \"random_walk_result/sev_in_result.npy\", \"random_walk_result/sev_in_random.npy\" )\n",
    "#FitAndExtractSignificantEdges( \"csv/sev_in.csv\", \"random_walk_result/sev_in_result.npy\", \"random_walk_result/sev_in_random.npy\" )\n",
    "FitAndExtractSignificantEdges( \"csv/long_cov_out.csv\", \"random_walk_result/long_cov_result10.npy\", \"random_walk_result/long_cov_random10.npy\" )"
   ]
  },
  {
   "cell_type": "code",
   "execution_count": null,
   "id": "95142511-9cea-4179-bd22-d079542abe3f",
   "metadata": {},
   "outputs": [],
   "source": []
  }
 ],
 "metadata": {
  "kernelspec": {
   "display_name": "Python 3 (ipykernel)",
   "language": "python",
   "name": "python3"
  },
  "language_info": {
   "codemirror_mode": {
    "name": "ipython",
    "version": 3
   },
   "file_extension": ".py",
   "mimetype": "text/x-python",
   "name": "python",
   "nbconvert_exporter": "python",
   "pygments_lexer": "ipython3",
   "version": "3.8.10"
  }
 },
 "nbformat": 4,
 "nbformat_minor": 5
}
