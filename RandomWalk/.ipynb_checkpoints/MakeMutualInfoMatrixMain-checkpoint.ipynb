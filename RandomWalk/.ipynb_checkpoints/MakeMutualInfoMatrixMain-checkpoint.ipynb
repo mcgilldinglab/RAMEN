{
 "cells": [
  {
   "cell_type": "code",
   "execution_count": 6,
   "id": "92b3e690-5d1c-429a-b852-ca6a767a5c19",
   "metadata": {},
   "outputs": [],
   "source": [
    "from MutualInformation import MakeMutualInfoMatrixNpy"
   ]
  },
  {
   "cell_type": "code",
   "execution_count": 4,
   "id": "f63bf3b8-c841-4425-8820-b2ff3b4f4428",
   "metadata": {},
   "outputs": [],
   "source": [
    "#MakeMutualInfoMatrixNpy( \"csv/long_covid_out3.csv\", \"mutual_info/long_covid_out3\" )"
   ]
  },
  {
   "cell_type": "code",
   "execution_count": 5,
   "id": "4ae44320-34d7-4aa3-9670-0e96cbe56903",
   "metadata": {},
   "outputs": [],
   "source": [
    "#MakeMutualInfoMatrixNpy( \"csv/sev_benchmarking3.csv\", \"mutual_info/sev_benchmarking3\" )"
   ]
  },
  {
   "cell_type": "code",
   "execution_count": 3,
   "id": "bcbf11d3-0c8c-476d-90f5-02209886135b",
   "metadata": {},
   "outputs": [],
   "source": [
    "#MakeMutualInfoMatrixNpy( \"csv/long_cov_benchmarking2.csv\", \"mutual_info/long_cov_benchmarking2\" )"
   ]
  },
  {
   "cell_type": "code",
   "execution_count": 2,
   "id": "07aa14fd-fd3c-40da-96d2-05e4e2a51f1d",
   "metadata": {},
   "outputs": [],
   "source": [
    "MakeMutualInfoMatrixNpy( \"csv/sev_in.csv\", \"mutual_info/sev_in\" )"
   ]
  },
  {
   "cell_type": "code",
   "execution_count": 7,
   "id": "fc86581b-eaca-46d1-9cac-28debe0ec26a",
   "metadata": {},
   "outputs": [
    {
     "name": "stdout",
     "output_type": "stream",
     "text": [
      "(82, 82)\n"
     ]
    }
   ],
   "source": [
    "MakeMutualInfoMatrixNpy( \"csv/long_cov_out.csv\", \"mutual_info/long_cov_out\" )"
   ]
  },
  {
   "cell_type": "code",
   "execution_count": null,
   "id": "a4ee451f-df94-47d3-80d8-67626cd1d562",
   "metadata": {},
   "outputs": [],
   "source": []
  }
 ],
 "metadata": {
  "kernelspec": {
   "display_name": "Python 3 (ipykernel)",
   "language": "python",
   "name": "python3"
  },
  "language_info": {
   "codemirror_mode": {
    "name": "ipython",
    "version": 3
   },
   "file_extension": ".py",
   "mimetype": "text/x-python",
   "name": "python",
   "nbconvert_exporter": "python",
   "pygments_lexer": "ipython3",
   "version": "3.8.10"
  }
 },
 "nbformat": 4,
 "nbformat_minor": 5
}
