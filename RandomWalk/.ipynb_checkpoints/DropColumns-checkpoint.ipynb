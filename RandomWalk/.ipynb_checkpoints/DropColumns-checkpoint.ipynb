{
 "cells": [
  {
   "cell_type": "code",
   "execution_count": 1,
   "id": "169cb400-8789-4ce8-a7f9-75bfcdb964b4",
   "metadata": {},
   "outputs": [],
   "source": [
    "import pandas as pd"
   ]
  },
  {
   "cell_type": "code",
   "execution_count": 8,
   "id": "7404558e-b3ca-4204-b1e0-95e6de1e364a",
   "metadata": {},
   "outputs": [],
   "source": [
    "df = pd.read_csv(\"csv/long_covid_out2.csv\")\n",
    "df.drop( \"Delay between the diagnosis and the draw blood for the follow up\", inplace = True, axis = 1 )\n",
    "df.to_csv(\"csv/long_covid_out3.csv\")"
   ]
  },
  {
   "cell_type": "code",
   "execution_count": null,
   "id": "773721d8-4ae4-467c-953c-2240971e813b",
   "metadata": {},
   "outputs": [],
   "source": []
  }
 ],
 "metadata": {
  "kernelspec": {
   "display_name": "Python 3 (ipykernel)",
   "language": "python",
   "name": "python3"
  },
  "language_info": {
   "codemirror_mode": {
    "name": "ipython",
    "version": 3
   },
   "file_extension": ".py",
   "mimetype": "text/x-python",
   "name": "python",
   "nbconvert_exporter": "python",
   "pygments_lexer": "ipython3",
   "version": "3.8.10"
  }
 },
 "nbformat": 4,
 "nbformat_minor": 5
}
