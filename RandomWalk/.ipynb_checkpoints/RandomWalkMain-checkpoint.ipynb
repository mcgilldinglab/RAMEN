{
 "cells": [
  {
   "cell_type": "code",
   "execution_count": 2,
   "id": "38821e69-5ad4-484f-ab75-dfbc2bcfef71",
   "metadata": {},
   "outputs": [
    {
     "name": "stdout",
     "output_type": "stream",
     "text": [
      "Collecting igraph\n",
      "  Downloading igraph-0.9.11-cp38-cp38-manylinux_2_17_x86_64.manylinux2014_x86_64.whl (3.2 MB)\n",
      "\u001b[K     |████████████████████████████████| 3.2 MB 16.6 MB/s eta 0:00:01\n",
      "\u001b[?25hCollecting texttable>=1.6.2\n",
      "  Downloading texttable-1.6.4-py2.py3-none-any.whl (10 kB)\n",
      "Installing collected packages: texttable, igraph\n",
      "Successfully installed igraph-0.9.11 texttable-1.6.4\n",
      "Note: you may need to restart the kernel to use updated packages.\n"
     ]
    }
   ],
   "source": [
    "pip install igraph"
   ]
  },
  {
   "cell_type": "code",
   "execution_count": 17,
   "id": "6fe398d9-644b-4ea6-9c18-705d6ed31bca",
   "metadata": {},
   "outputs": [],
   "source": [
    "from RandomWalk import RunExperiments, RunRandomExperiment\n",
    "from InitializeGraph import InitializeRandomWalkGraph"
   ]
  },
  {
   "cell_type": "code",
   "execution_count": 4,
   "id": "a5e0ea0d-734c-45ca-a51e-9e8477c1ef95",
   "metadata": {},
   "outputs": [],
   "source": [
    "# g = InitializeRandomWalkGraph( \"csv/long_covid_out3.csv\" )\n",
    "# RunExperiments( g, \"mutual_info/long_covid_out3.npy\", 10, 500000, 7, \"random_walk_result/long_covid_out_3_result\" )"
   ]
  },
  {
   "cell_type": "code",
   "execution_count": 5,
   "id": "efc51c4c-2453-4360-9fbd-3d9d6d0479f8",
   "metadata": {},
   "outputs": [],
   "source": [
    "# g_random = InitializeRandomWalkGraph( \"csv/long_covid_out3.csv\" )\n",
    "# RunRandomExperiment( g_random, \"mutual_info/long_covid_out3.npy\", 500000, 7, \"random_walk_result/random_long_covid_out_3_result\" )    "
   ]
  },
  {
   "cell_type": "code",
   "execution_count": 2,
   "id": "c896f6c5-63d6-49d4-9f30-9f1705e2e489",
   "metadata": {},
   "outputs": [],
   "source": [
    "# g = InitializeRandomWalkGraph( \"csv/sev_benchmarking3.csv\" )\n",
    "# RunExperiments( g, \"mutual_info/sev_benchmarking3.npy\", 10, 500000, 14, \"random_walk_result/sev_benchmarking_result\" )"
   ]
  },
  {
   "cell_type": "code",
   "execution_count": 3,
   "id": "b3c769a4-b198-42f7-bbae-7148ec574089",
   "metadata": {},
   "outputs": [],
   "source": [
    "# g_random = InitializeRandomWalkGraph( \"csv/sev_benchmarking3.csv\" )\n",
    "# RunRandomExperiment( g_random, \"mutual_info/sev_benchmarking3.npy\", 500000, 14, \"random_walk_result/sev_random_benchmark_result\" ) "
   ]
  },
  {
   "cell_type": "code",
   "execution_count": 2,
   "id": "e3a94763-c8b8-437c-826f-e0879ca9cc30",
   "metadata": {},
   "outputs": [],
   "source": [
    "# g = InitializeRandomWalkGraph( \"csv/long_cov_benchmarking2.csv\" )\n",
    "# RunExperiments( g, \"mutual_info/long_cov_benchmarking2.npy\", 10, 500000, 7, \"random_walk_result/long_cov_benchmarking_result\" )"
   ]
  },
  {
   "cell_type": "code",
   "execution_count": 3,
   "id": "65f622f3-d4e9-4ded-90d3-d3cc0c18b37a",
   "metadata": {},
   "outputs": [],
   "source": [
    "# g_random = InitializeRandomWalkGraph( \"csv/long_cov_benchmarking2.csv\" )\n",
    "# RunRandomExperiment( g_random, \"mutual_info/long_cov_benchmarking2.npy\", 500000, 7, \"random_walk_result/long_cov_random_benchmarking_result\" ) "
   ]
  },
  {
   "cell_type": "code",
   "execution_count": 3,
   "id": "5f0d4c1a-e940-4aa0-9caf-08081aa7295e",
   "metadata": {},
   "outputs": [],
   "source": [
    "g_random = InitializeRandomWalkGraph( \"csv/sev_in.csv\" )\n",
    "RunRandomExperiment( g_random, \"mutual_info/sev_in.npy\", 500000, 14, \"random_walk_result/sev_in_random\" )"
   ]
  },
  {
   "cell_type": "code",
   "execution_count": 2,
   "id": "aae3b13c-2a53-4394-8286-0680402dcaf4",
   "metadata": {},
   "outputs": [],
   "source": [
    "g = InitializeRandomWalkGraph( \"csv/sev_in.csv\" )\n",
    "RunExperiments( g, \"mutual_info/sev_in.npy\", 10, 500000, 14, \"random_walk_result/sev_in_result\" )"
   ]
  },
  {
   "cell_type": "code",
   "execution_count": 20,
   "id": "b3d8658c-6e05-4cd1-b331-f0c7c775f1b7",
   "metadata": {},
   "outputs": [],
   "source": [
    "# number of steps here calculated by 134/299 * 14 to adjust for having less variables than sev. long_var/sev_var * 14\n",
    "#78 variables\n",
    "\n",
    "g_random = InitializeRandomWalkGraph( \"csv/long_cov_out.csv\" )\n",
    "RunRandomExperiment( g_random, \"mutual_info/long_cov_out.npy\", 500000, 10, \"random_walk_result/long_cov_random\" )"
   ]
  },
  {
   "cell_type": "code",
   "execution_count": 21,
   "id": "c5d0fcbf-8cf9-465f-8959-443c0ffa39e0",
   "metadata": {},
   "outputs": [],
   "source": [
    "g = InitializeRandomWalkGraph( \"csv/long_cov_out.csv\" )\n",
    "RunExperiments( g, \"mutual_info/long_cov_out.npy\", 10, 500000, 14, \"random_walk_result/long_cov_result\" )"
   ]
  },
  {
   "cell_type": "code",
   "execution_count": null,
   "id": "fbf072c4-107b-45ce-94ce-3035c4972d29",
   "metadata": {},
   "outputs": [],
   "source": []
  }
 ],
 "metadata": {
  "kernelspec": {
   "display_name": "Python 3 (ipykernel)",
   "language": "python",
   "name": "python3"
  },
  "language_info": {
   "codemirror_mode": {
    "name": "ipython",
    "version": 3
   },
   "file_extension": ".py",
   "mimetype": "text/x-python",
   "name": "python",
   "nbconvert_exporter": "python",
   "pygments_lexer": "ipython3",
   "version": "3.8.10"
  }
 },
 "nbformat": 4,
 "nbformat_minor": 5
}
