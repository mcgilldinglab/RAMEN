{
 "cells": [
  {
   "cell_type": "code",
   "execution_count": 3,
   "id": "e8f3d1e1-8027-4e79-a37f-09c26613d830",
   "metadata": {},
   "outputs": [],
   "source": [
    "from InitializeGraph import InitializeRandomWalkGraph \n",
    "import ArraySaver as As"
   ]
  },
  {
   "cell_type": "code",
   "execution_count": 4,
   "id": "9855170d-5772-43b4-8003-bdd934b886be",
   "metadata": {},
   "outputs": [],
   "source": [
    "long_cov = InitializeRandomWalkGraph( \"csv/long_cov_out.csv\" )\n",
    "\n",
    "m_info_array = As.LoadArrayFromFile( \"mutual_info/long_cov_out.npy\" )"
   ]
  },
  {
   "cell_type": "code",
   "execution_count": 8,
   "id": "3d1b15ee-2576-44f5-aede-afb7182a12a2",
   "metadata": {},
   "outputs": [],
   "source": [
    "end_string = \"Long Covid\"\n",
    "\n",
    "vertices = list( long_cov.vs )\n",
    "\n",
    "end_index = 0\n",
    "for i in range( len( vertices ) ):\n",
    "    if ( vertices[ i ][ 'clinic_vars'] == end_string ):\n",
    "        end_index = i\n",
    "        break"
   ]
  },
  {
   "cell_type": "code",
   "execution_count": 7,
   "id": "553eb1d4-7958-4d2f-92cf-d08396af1cbe",
   "metadata": {},
   "outputs": [
    {
     "data": {
      "text/plain": [
       "80"
      ]
     },
     "execution_count": 7,
     "metadata": {},
     "output_type": "execute_result"
    }
   ],
   "source": [
    "end_index"
   ]
  },
  {
   "cell_type": "code",
   "execution_count": 10,
   "id": "5dcb6dd5-73e9-4b5d-98f8-a611793a83ee",
   "metadata": {},
   "outputs": [
    {
     "name": "stdout",
     "output_type": "stream",
     "text": [
      "[0.03888673 0.03888673 0.03888673 0.03888673 0.03888673 0.03888673\n",
      " 0.03888673 0.03888673 0.03888673 0.03888673 0.03888673 0.03888673\n",
      " 0.03888673 0.03888673 0.03888673 0.03888673 0.03888673 0.03888673\n",
      " 0.03888673 0.03888673 0.03888673 0.03888673 0.03888673 0.03888673\n",
      " 0.0419713  0.03888673 0.03888673 0.03888673 0.03888673 0.03888673\n",
      " 0.03888673 0.03888673 0.03888673 0.03888673 0.03888673 0.03888673\n",
      " 0.03888673 0.03888673 0.03888673 0.07465698 0.03888673 0.03888673\n",
      " 0.03888673 0.03888673 0.03888673 0.03888673 0.03888673 0.03888673\n",
      " 0.03888673 0.03888673 0.03888673 0.03888673 0.05142078 0.03888673\n",
      " 0.03888673 0.03888673 0.03888673 0.03888673 0.0402601  0.07164733\n",
      " 0.03888673 0.03888673 0.03888673 0.03888673 0.03888673 0.03888673\n",
      " 0.03888673 0.03888673 0.03888673 0.03888673 0.03888673 0.03888673\n",
      " 0.04236191 0.03888673 0.03888673 0.03888673 0.03888673 0.03888673\n",
      " 0.03888673 0.3548872  0.94697712 0.03888673]\n"
     ]
    }
   ],
   "source": [
    "print( m_info_array[ :, 80 ] )"
   ]
  },
  {
   "cell_type": "code",
   "execution_count": null,
   "id": "9bc5f3f7-3e98-44cb-9683-257d4affdf1b",
   "metadata": {},
   "outputs": [],
   "source": []
  }
 ],
 "metadata": {
  "kernelspec": {
   "display_name": "Python 3 (ipykernel)",
   "language": "python",
   "name": "python3"
  },
  "language_info": {
   "codemirror_mode": {
    "name": "ipython",
    "version": 3
   },
   "file_extension": ".py",
   "mimetype": "text/x-python",
   "name": "python",
   "nbconvert_exporter": "python",
   "pygments_lexer": "ipython3",
   "version": "3.8.10"
  }
 },
 "nbformat": 4,
 "nbformat_minor": 5
}
