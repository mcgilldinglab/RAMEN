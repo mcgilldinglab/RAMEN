{
 "cells": [
  {
   "cell_type": "code",
   "execution_count": 1,
   "id": "ecc38a3f-d208-45e4-9d67-55cd5a180dd6",
   "metadata": {},
   "outputs": [],
   "source": [
    "import MakeLongCovidData as MCD\n",
    "import CustomDataframeEdits as CDE\n",
    "import ProcessDataframe as PD"
   ]
  },
  {
   "cell_type": "code",
   "execution_count": 4,
   "id": "a20c2722-3454-435d-a3d4-0d7806ac3f1f",
   "metadata": {},
   "outputs": [
    {
     "name": "stderr",
     "output_type": "stream",
     "text": [
      "/tmp/ipykernel_3476635/3904628627.py:1: DtypeWarning: Columns (20,37,39,40,41,42,85,86,87,88,96,150,151,153,154,155,723) have mixed types.Specify dtype option on import or set low_memory=False.\n",
      "  CDE.RemoveNonOutPatient( \"csv/ThinnedLongCovid.csv\" )\n"
     ]
    }
   ],
   "source": [
    "CDE.RemoveNonOutPatient( \"csv/ThinnedLongCovid.csv\" )"
   ]
  },
  {
   "cell_type": "code",
   "execution_count": 5,
   "id": "b48ffdec-3362-4bc8-bab3-3782b6f7d575",
   "metadata": {},
   "outputs": [
    {
     "name": "stderr",
     "output_type": "stream",
     "text": [
      "/tmp/ipykernel_3476635/3271116732.py:1: DtypeWarning: Columns (3,19,21,32,47,89,148,149,150,151,152,153,154,155,156) have mixed types.Specify dtype option on import or set low_memory=False.\n",
      "  MCD.MakeLongCovidCsv( \"csv/ThinnedLongCovid.csv\", \"csv/ThinnedLongCovid.csv\" )\n"
     ]
    }
   ],
   "source": [
    "MCD.MakeLongCovidCsv( \"csv/ThinnedLongCovid.csv\", \"csv/ThinnedLongCovid.csv\" )"
   ]
  },
  {
   "cell_type": "code",
   "execution_count": 9,
   "id": "b5ff64a5-9c24-4bb8-8ac9-03d9804d5b5c",
   "metadata": {},
   "outputs": [
    {
     "name": "stdout",
     "output_type": "stream",
     "text": [
      "682\n",
      "89\n"
     ]
    },
    {
     "name": "stderr",
     "output_type": "stream",
     "text": [
      "/tmp/ipykernel_3476635/2680715351.py:1: DtypeWarning: Columns (19) have mixed types.Specify dtype option on import or set low_memory=False.\n",
      "  MCD.CleanOneValueVariables( \"csv/ThinnedLongCovid2.csv\", \"csv/ThinnedLongCovid2.csv\" )\n"
     ]
    }
   ],
   "source": [
    "MCD.CleanOneValueVariables( \"csv/ThinnedLongCovid2.csv\", \"csv/ThinnedLongCovid2.csv\" )"
   ]
  },
  {
   "cell_type": "code",
   "execution_count": 8,
   "id": "b05d7d84-2279-494c-a8f9-f470d8e5f694",
   "metadata": {},
   "outputs": [
    {
     "name": "stderr",
     "output_type": "stream",
     "text": [
      "/tmp/ipykernel_3476635/4065823213.py:1: DtypeWarning: Columns (18,62) have mixed types.Specify dtype option on import or set low_memory=False.\n",
      "  CDE.MergeInCSV( \"csv/ThinnedLongCovid.csv\", \"csv/ThinnedLongCovid2.csv\" )\n"
     ]
    }
   ],
   "source": [
    "CDE.MergeInCSV( \"csv/ThinnedLongCovid.csv\", \"csv/ThinnedLongCovid2.csv\" )"
   ]
  },
  {
   "cell_type": "code",
   "execution_count": 2,
   "id": "fa24d340-97d3-4edb-baca-edd97d58afc7",
   "metadata": {},
   "outputs": [
    {
     "name": "stdout",
     "output_type": "stream",
     "text": [
      "starting patient cleaning \n",
      "dropping bad vars\n",
      "vectorizing dataframe\n",
      "Removed 48Variables because of insufficient data. If deleted too many, please adjust the bad_var_threshold\n",
      "Processing Done :)\n",
      "Processed csv saved to csv/ThinnedLongCovid4.csv\n"
     ]
    }
   ],
   "source": []
  },
  {
   "cell_type": "code",
   "execution_count": 6,
   "id": "aaaf0725-cfbc-4565-af2b-413d41dc3ee6",
   "metadata": {},
   "outputs": [
    {
     "name": "stderr",
     "output_type": "stream",
     "text": [
      "/tmp/ipykernel_3476635/1165602044.py:1: DtypeWarning: Columns (4,20,22,33,48,90,149,150,151,152,153,154,155,156,157) have mixed types.Specify dtype option on import or set low_memory=False.\n",
      "  PD.CleanNegativePatientsCsv( \"csv/ThinnedLongCovid.csv\", \"csv/ThinnedLongCovid.csv\" )\n"
     ]
    }
   ],
   "source": [
    "PD.CleanNegativePatientsCsv( \"csv/ThinnedLongCovid.csv\", \"csv/ThinnedLongCovid.csv\" )"
   ]
  },
  {
   "cell_type": "code",
   "execution_count": 3,
   "id": "1ad7113c-1605-4c44-a484-5f5748aba240",
   "metadata": {},
   "outputs": [],
   "source": [
    "import pandas as pd\n",
    "\n",
    "df = pd.read_csv( \"csv/ThinnedLongCovid3.csv\" )\n",
    "pregnant = list( df[ \"Patient pregnant?\" ] )\n",
    "sexe = list( df[ \"Sex at birth:\" ] )\n",
    "for i in range( len( sexe ) ):\n",
    "    if ( sexe[ i ] == \"Male\" ):\n",
    "        pregnant[i] = \"No\"\n",
    "df[ \"Patient pregnant?\" ] = pregnant\n",
    "df.to_csv( \"csv/ThinnedLongCovid4.csv\" )"
   ]
  },
  {
   "cell_type": "code",
   "execution_count": 4,
   "id": "26efbaec-3c99-47a9-862c-6a741fa3e1dc",
   "metadata": {},
   "outputs": [
    {
     "name": "stdout",
     "output_type": "stream",
     "text": [
      "starting patient cleaning \n",
      "dropping bad vars\n",
      "vectorizing dataframe\n",
      "Removed 1Variables because of insufficient data. If deleted too many, please adjust the bad_var_threshold\n",
      "Processing Done :)\n",
      "Processed csv saved to csv/ThinnedLongCovid5.csv\n"
     ]
    }
   ],
   "source": [
    "PD.ProcessDataframe( \"csv/ThinnedLongCovid4.csv\", \"csv/ThinnedLongCovid5.csv\", bad_var_threshold = 10 )"
   ]
  },
  {
   "cell_type": "code",
   "execution_count": null,
   "id": "26469d2f-b08d-44ad-b39a-43317c3f0a7c",
   "metadata": {},
   "outputs": [],
   "source": [
    "import pandas as pd\n",
    "\n",
    "with_id = pd.read_csv( \"csv/long_cov_archive_final/ThinnedLongCovid2.csv\")\n",
    "current = pd.read_csv( \"csv/long_cov_archive_final/long_cov_out.csv\" )\n",
    "\n",
    "ids = with_id[ \"BQC ID\" ]\n",
    "current[ \"BQC ID\" ] = current.insert(1, column = \"BQC ID\", value = ids )\n",
    "current.to_csv( \"csv/long_cov_out_withid.csv\" )"
   ]
  }
 ],
 "metadata": {
  "kernelspec": {
   "display_name": "Python 3 (ipykernel)",
   "language": "python",
   "name": "python3"
  },
  "language_info": {
   "codemirror_mode": {
    "name": "ipython",
    "version": 3
   },
   "file_extension": ".py",
   "mimetype": "text/x-python",
   "name": "python",
   "nbconvert_exporter": "python",
   "pygments_lexer": "ipython3",
   "version": "3.8.10"
  }
 },
 "nbformat": 4,
 "nbformat_minor": 5
}
