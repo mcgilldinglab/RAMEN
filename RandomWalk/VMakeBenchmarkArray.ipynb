{
 "cells": [
  {
   "cell_type": "code",
   "execution_count": 2,
   "id": "bb20cd84-e7a9-4e60-bc4a-99b172dfb8fd",
   "metadata": {},
   "outputs": [],
   "source": [
    "import pandas as pd\n",
    "import numpy as np\n",
    "import random"
   ]
  },
  {
   "cell_type": "code",
   "execution_count": 5,
   "id": "1b0e39a4-ac4f-4fcf-9df3-b93875d80959",
   "metadata": {},
   "outputs": [],
   "source": [
    "# MAKING ARTIFICIAL GOOD AND BAD VAR FOR SEVERITY\n",
    "dataframe = pd.read_csv( \"csv/LearningData1.csv\" )"
   ]
  },
  {
   "cell_type": "code",
   "execution_count": 6,
   "id": "216e301f-d8d5-441d-a136-3f8d62665535",
   "metadata": {},
   "outputs": [],
   "source": [
    "sev_string = \"If a screening test for SARS-CoV-2 by PCR was performed, what is the most severe severity level (according to WHO) achieved?\"\n",
    "\n",
    "mapping = { 0: 0, 1: 1, 2: 1, 3: 0, 4: 0, -999: -999 }\n",
    "sev_arr = list( dataframe[ sev_string ] )\n",
    "new_col = [ mapping[k] for k in sev_arr ]"
   ]
  },
  {
   "cell_type": "code",
   "execution_count": 7,
   "id": "460cc7ef-12bd-448b-a044-afa3e48563d4",
   "metadata": {},
   "outputs": [],
   "source": [
    "dataframe[ \"ArtificialGoodVar\" ] = new_col"
   ]
  },
  {
   "cell_type": "code",
   "execution_count": 9,
   "id": "95594868-00b4-4280-a82e-127a940f9146",
   "metadata": {},
   "outputs": [],
   "source": [
    "#print( dataframe.columns )\n",
    "# age_arr = list( dataframe[ \"�ge au recrutement:\"] )\n",
    "# random.shuffle( age_arr )\n",
    "\n",
    "bad_var = list( np.random.randint(0, 10, len(sev_arr) ) )\n",
    "\n"
   ]
  },
  {
   "cell_type": "code",
   "execution_count": 10,
   "id": "9cc9aed8-1899-4dc8-83f5-f3ef834ee4f6",
   "metadata": {},
   "outputs": [],
   "source": [
    "dataframe[ \"ArtificialBadVar\" ] = bad_var"
   ]
  },
  {
   "cell_type": "code",
   "execution_count": 11,
   "id": "2f277383-9561-472d-8e64-b286d9edb773",
   "metadata": {},
   "outputs": [],
   "source": [
    "dataframe.to_csv( \"csv/sev_benchmarking2.csv\" )"
   ]
  },
  {
   "cell_type": "code",
   "execution_count": 12,
   "id": "6296a222-5ae8-4dd1-a615-ead4587ea409",
   "metadata": {},
   "outputs": [],
   "source": [
    "#MAKING ARTIFICIAL GOOD AND BAD VAR FOR LONG COVID\n",
    "dataframe = pd.read_csv(\"csv/long_covid_out3.csv\")"
   ]
  },
  {
   "cell_type": "code",
   "execution_count": 13,
   "id": "2bc6231a-3dec-4146-9adc-fbecb87e3e4b",
   "metadata": {},
   "outputs": [],
   "source": [
    "import random\n",
    "\n",
    "long_cov_arr = list( dataframe[ \"Long Covid\" ] )\n",
    "new_col = [ k for k in long_cov_arr ]\n",
    "#CREATING AN APPROXIMATE 20% difference\n",
    "\n",
    "size = len(new_col)\n",
    "for i in range( int(size/5) ):\n",
    "    index = random.randint( 0, size-1 )\n",
    "    new_col[ index ] = 1 - new_col[ index ]\n",
    "dataframe[ \"ArtificialGoodVar\" ] = new_col"
   ]
  },
  {
   "cell_type": "code",
   "execution_count": 14,
   "id": "ea1e3609-6618-45a3-94f9-b44c49e67ee8",
   "metadata": {},
   "outputs": [],
   "source": [
    "bad_var = list( np.random.randint(0, 10, len(long_cov_arr)))\n",
    "dataframe[ \"ArtificialBadVar\" ] = bad_var\n",
    "dataframe.to_csv( \"csv/long_cov_benchmarking2.csv\" )"
   ]
  },
  {
   "cell_type": "code",
   "execution_count": 4,
   "id": "36af4fbe-7e6e-4a8d-996a-e9c5bd823b3c",
   "metadata": {},
   "outputs": [],
   "source": [
    "# old = pd.read_csv( \"csv/prev_sev_in.csv\" )\n",
    "# new = pd.read_csv( \"csv/sev_in.csv\" )\n",
    "# new[ \"Has the participant had any new disease and/or worsening and/or deterioration of a pre-existing disease?\" ] = old[ \"Has the participant had any new disease and/or worsening and/or deterioration of a pre-existing disease?\" ]\n",
    "# new[ \"Does the participant report persistent symptoms related to SARS-CoV-2 infection?\" ] = old[ \"Does the participant report persistent symptoms related to SARS-CoV-2 infection?\" ]\n",
    "# new.to_csv( \"csv/sev_in.csv\" )"
   ]
  },
  {
   "cell_type": "code",
   "execution_count": 3,
   "id": "272365d6-47eb-419d-bc4e-9626a75d9a42",
   "metadata": {},
   "outputs": [
    {
     "name": "stdout",
     "output_type": "stream",
     "text": [
      "299\n",
      "134\n"
     ]
    }
   ],
   "source": [
    "sev = pd.read_csv( \"csv/sev_in.csv\" )\n",
    "long = pd.read_csv( \"csv/long_covid_out3.csv\" )\n",
    "print( len( sev.columns ) )\n",
    "print( len( long.columns ) )"
   ]
  },
  {
   "cell_type": "code",
   "execution_count": null,
   "id": "5d72476a-40b1-40ab-aa24-8df57a31c468",
   "metadata": {},
   "outputs": [],
   "source": []
  }
 ],
 "metadata": {
  "kernelspec": {
   "display_name": "Python 3 (ipykernel)",
   "language": "python",
   "name": "python3"
  },
  "language_info": {
   "codemirror_mode": {
    "name": "ipython",
    "version": 3
   },
   "file_extension": ".py",
   "mimetype": "text/x-python",
   "name": "python",
   "nbconvert_exporter": "python",
   "pygments_lexer": "ipython3",
   "version": "3.8.10"
  }
 },
 "nbformat": 4,
 "nbformat_minor": 5
}
