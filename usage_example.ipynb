{
 "cells": [
  {
   "cell_type": "code",
   "execution_count": 1,
   "id": "98300d2d-04de-4244-8e9a-7f4571f9f6bb",
   "metadata": {},
   "outputs": [],
   "source": [
    "from ramen.Ramen import Ramen"
   ]
  },
  {
   "cell_type": "code",
   "execution_count": 2,
   "id": "3afadabf-386b-4ad6-ae20-4987af25a513",
   "metadata": {},
   "outputs": [
    {
     "name": "stdout",
     "output_type": "stream",
     "text": [
      "Starting removing vars with too few values, vectorizing dataframe, and initializing mutual information matrix, this might take a few minutes.\n",
      "Removed 7 variables because of insufficient data. If deleted too many, please adjust the bad_var_threshold\n",
      "done\n"
     ]
    }
   ],
   "source": [
    "long = \"Long Covid\"\n",
    "bowl = Ramen( \"ramen/csv/example.csv\", end_string = long, min_values = 200 )"
   ]
  },
  {
   "cell_type": "code",
   "execution_count": 3,
   "id": "cd7e3904-bf91-4dfc-9192-39154a5ef999",
   "metadata": {},
   "outputs": [
    {
     "name": "stdout",
     "output_type": "stream",
     "text": [
      "Optimization terminated successfully.\n",
      "         Current function value: 0.808345\n",
      "         Iterations: 12\n",
      "         Function evaluations: 13\n",
      "         Gradient evaluations: 13\n"
     ]
    }
   ],
   "source": [
    "bowl.random_walk( 10, 5000, 7, p_value = 0.05, correction = \"no_correction\" )"
   ]
  },
  {
   "cell_type": "code",
   "execution_count": 4,
   "id": "8d6c7e51-fc5f-43ff-a323-0c552647ee49",
   "metadata": {},
   "outputs": [
    {
     "name": "stdout",
     "output_type": "stream",
     "text": [
      "75\n",
      "initializing scorer\n",
      "done initializing scorer\n",
      "making candidates\n",
      "Finished making candidates in: 1.1916895729955286\n",
      "starting Genetic Algorithm\n",
      "-38.77012749727795\n",
      "generation: 0 best: -38.094838260030954\n",
      "generation: 1 best: -37.949937886940624\n",
      "generation: 2 best: -37.56985959866779\n",
      "generation: 3 best: -37.20360603750589\n",
      "generation: 4 best: -36.70837017174945\n",
      "generation: 5 best: -36.46075223887123\n",
      "generation: 6 best: -36.219902252398086\n",
      "generation: 7 best: -35.89611906192293\n",
      "generation: 8 best: -35.393485696785945\n",
      "generation: 9 best: -35.18337559201184\n"
     ]
    }
   ],
   "source": [
    "bowl.genetic_algorithm( hard_stop = 10 )"
   ]
  },
  {
   "cell_type": "code",
   "execution_count": 5,
   "id": "1722908f-8b59-4e94-ba46-a29f6b407b1c",
   "metadata": {},
   "outputs": [
    {
     "data": {
      "text/plain": [
       "<networkx.classes.digraph.DiGraph at 0x7f451be9a820>"
      ]
     },
     "execution_count": 5,
     "metadata": {},
     "output_type": "execute_result"
    }
   ],
   "source": [
    "bowl.network"
   ]
  },
  {
   "cell_type": "code",
   "execution_count": 6,
   "id": "f3bfb9e9-d08a-48ce-81d5-044529abcac5",
   "metadata": {},
   "outputs": [
    {
     "data": {
      "text/plain": [
       "[('ACE inhibitor or Angiotensin Receptor Blocker?', 'Long Covid'),\n",
       " ('ACE inhibitor or Angiotensin Receptor Blocker?', 'Wheezing or stridor ?'),\n",
       " ('Wheezing or stridor ?', 'Long Covid'),\n",
       " ('Abdominal pain ?', 'Asymptomatic?'),\n",
       " ('Abdominal pain ?', 'Long Covid'),\n",
       " ('Asymptomatic?', 'Confusion / altered mental status ?'),\n",
       " ('Asymptomatic?', 'Diarrhea ?'),\n",
       " ('Asymptomatic?', 'Fatigue ?'),\n",
       " ('Asymptomatic?', 'Joint pain (Arthralgia) ?'),\n",
       " ('Asymptomatic?', 'Long Covid'),\n",
       " ('Asymptomatic?', 'Loss of appetite ?'),\n",
       " ('Age au recrutement:', 'Long Covid'),\n",
       " ('Anticoagulants?', 'ACE inhibitor or Angiotensin Receptor Blocker?'),\n",
       " ('Anticoagulants?', 'Colchicine?'),\n",
       " ('Anticoagulants?', 'Long Covid'),\n",
       " ('Anticoagulants?', 'Loss of taste / lost of smell ?'),\n",
       " ('Anticoagulants?', 'Systemic corticosteroid?'),\n",
       " ('Colchicine?', 'Long Covid'),\n",
       " ('Loss of taste / lost of smell ?', 'Long Covid'),\n",
       " ('Systemic corticosteroid?', 'Long Covid'),\n",
       " ('Systemic corticosteroid?', 'Muscle aches (Myalgia) ?'),\n",
       " ('Systemic corticosteroid?', 'Other immunosuppressive medications?'),\n",
       " ('Arterial Hypertension ?', 'Long Covid'),\n",
       " ('Asthma ?', 'Long Covid'),\n",
       " ('Confusion / altered mental status ?', 'Long Covid'),\n",
       " ('Diarrhea ?', 'Long Covid'),\n",
       " ('Fatigue ?', 'Long Covid'),\n",
       " ('Joint pain (Arthralgia) ?', 'Long Covid'),\n",
       " ('Loss of appetite ?', 'Long Covid'),\n",
       " ('Atrial fibrillation or flutter ?', 'Long Covid'),\n",
       " ('BMI:', 'Long Covid'),\n",
       " ('COPD (emphysema, chronic bronchitis) ?', 'Long Covid'),\n",
       " ('Chest pain ?', 'Asymptomatic?'),\n",
       " ('Chest pain ?', 'Long Covid'),\n",
       " ('Chronic hematologic disease ?', 'Long Covid'),\n",
       " ('Chronic kidney disease ?', 'Long Covid'),\n",
       " ('Coronary artery disease ?', 'Long Covid'),\n",
       " ('Cough ?', 'Anticoagulants?'),\n",
       " ('Cough ?', 'Long Covid'),\n",
       " ('Dementia ? ', 'Long Covid'),\n",
       " ('Diabetes ?', 'Long Covid'),\n",
       " ('Dizziness ?', 'Long Covid'),\n",
       " ('Drugs?', 'Long Covid'),\n",
       " ('Ear pain ?', 'Long Covid'),\n",
       " ('Electronic cigarettes?', 'Long Covid'),\n",
       " ('Extremity weakness or numbness ?', 'Long Covid'),\n",
       " ('Fever (?38.0 Celcius) ?', 'Long Covid'),\n",
       " ('HGO or insulin?', 'Long Covid'),\n",
       " ('HIV or AIDS ?', 'Long Covid'),\n",
       " ('HIV or AIDS ?', 'Other immunosuppressive medications?'),\n",
       " ('Other immunosuppressive medications?', 'Colchicine?'),\n",
       " ('Other immunosuppressive medications?', 'HGO or insulin?'),\n",
       " ('Other immunosuppressive medications?', 'Long Covid'),\n",
       " ('Headache ?', 'Long Covid'),\n",
       " ('Heart failure ?', 'Long Covid'),\n",
       " ('Height in m:', 'Long Covid'),\n",
       " ('Hemoptysis / Bloody sputum ?', 'Long Covid'),\n",
       " ('If a screening test for SARS-CoV-2 by PCR was performed, what is the most severe severity level (according to WHO) achieved?',\n",
       "  'Long Covid'),\n",
       " ('Immunosupressed state?', 'Long Covid'),\n",
       " ('Is the participant employed as a Healthcare Worker?  ', 'Long Covid'),\n",
       " ('Is the participant employed in a Microbiology Laboratory?  ', 'Long Covid'),\n",
       " ('Leg swelling (Edema) ?', 'Long Covid'),\n",
       " ('Liver disease ?', 'Long Covid'),\n",
       " ('Malignant neoplasm ?', 'Long Covid'),\n",
       " ('Malnutrition ?', 'Long Covid'),\n",
       " ('Muscle aches (Myalgia) ?', 'Long Covid'),\n",
       " ('Nausea / vomiting ?', 'Long Covid'),\n",
       " ('Number of comorbidities: ', 'Long Covid'),\n",
       " ('Obesity ?', 'Long Covid'),\n",
       " ('Other chronic cardiac disease ?', 'Long Covid'),\n",
       " ('Other chronic lung disease ? ', 'Long Covid'),\n",
       " ('Other chronic neurological disorder (other than stroke/TIA) ?',\n",
       "  'Long Covid'),\n",
       " ('Patient pregnant?', 'Long Covid'),\n",
       " ('Please specify drugs used. (choice=Amphetamines)', 'Long Covid'),\n",
       " ('Please specify drugs used. (choice=Cocaine)', 'Long Covid'),\n",
       " ('Please specify drugs used. (choice=Opiods)', 'Long Covid'),\n",
       " ('Please specify drugs used. (choice=Other)', 'Long Covid'),\n",
       " ('Prior myocardial infarction ?', 'Long Covid'),\n",
       " ('Prior stroke ? ', 'Long Covid'),\n",
       " ('Prior transient ischemic attack (TIA) ?', 'Long Covid'),\n",
       " ('Psychiatric disease?', 'Long Covid'),\n",
       " ('Pulmonary hypertension ?', 'Long Covid'),\n",
       " ('Red eye (Conjunctivitis) ?', 'Long Covid'),\n",
       " ('Rheumatologic disease ?', 'Long Covid'),\n",
       " ('Runny nose (Rhinorrhea) ?', 'Long Covid'),\n",
       " ('Seizure ?', 'Long Covid'),\n",
       " ('Sex at birth:', 'Long Covid'),\n",
       " ('Shortness of breath (Dyspnea) ?', 'Long Covid'),\n",
       " ('Skin rash ?', 'Long Covid'),\n",
       " ('Smoking status:', 'Long Covid'),\n",
       " ('Sore throat ?', 'Long Covid'),\n",
       " ('Trouble speaking (Aphasia / Dysphasia) ?', 'Long Covid')]"
      ]
     },
     "execution_count": 6,
     "metadata": {},
     "output_type": "execute_result"
    }
   ],
   "source": [
    "list(bowl.network.edges)"
   ]
  }
 ],
 "metadata": {
  "kernelspec": {
   "display_name": "Python 3 (ipykernel)",
   "language": "python",
   "name": "python3"
  },
  "language_info": {
   "codemirror_mode": {
    "name": "ipython",
    "version": 3
   },
   "file_extension": ".py",
   "mimetype": "text/x-python",
   "name": "python",
   "nbconvert_exporter": "python",
   "pygments_lexer": "ipython3",
   "version": "3.8.10"
  }
 },
 "nbformat": 4,
 "nbformat_minor": 5
}
