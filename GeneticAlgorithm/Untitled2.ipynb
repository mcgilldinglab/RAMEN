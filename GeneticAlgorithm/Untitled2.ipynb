{
 "cells": [
  {
   "cell_type": "code",
   "execution_count": 1,
   "id": "6906d8b6-87a2-43b5-b4b8-8d54a304b8cf",
   "metadata": {},
   "outputs": [],
   "source": [
    "import numpy as np"
   ]
  },
  {
   "cell_type": "code",
   "execution_count": 2,
   "id": "9c58185b-19d8-4f42-a448-deeb9259b0f0",
   "metadata": {},
   "outputs": [
    {
     "data": {
      "text/plain": [
       "array([2, 4])"
      ]
     },
     "execution_count": 2,
     "metadata": {},
     "output_type": "execute_result"
    }
   ],
   "source": [
    "liste = np.array( [[1,2], [3,4]])\n",
    "liste[ :, 1 ]"
   ]
  },
  {
   "cell_type": "code",
   "execution_count": 4,
   "id": "0ca1d46d-35c6-41cb-8d67-d6bd2e7b82fc",
   "metadata": {},
   "outputs": [
    {
     "data": {
      "text/plain": [
       "(array([0, 1]),)"
      ]
     },
     "execution_count": 4,
     "metadata": {},
     "output_type": "execute_result"
    }
   ],
   "source": [
    "liste = np.array( [1,1,2,2])\n",
    "np.where( liste == 1)"
   ]
  },
  {
   "cell_type": "code",
   "execution_count": 6,
   "id": "a6fb7597-d96f-4445-a461-7534d1f7d779",
   "metadata": {},
   "outputs": [
    {
     "data": {
      "text/plain": [
       "array([0, 1, 2, 3])"
      ]
     },
     "execution_count": 6,
     "metadata": {},
     "output_type": "execute_result"
    }
   ],
   "source": [
    "np.arange(liste.size)"
   ]
  },
  {
   "cell_type": "code",
   "execution_count": null,
   "id": "7570855d-8c9d-4895-ace0-946d6ffbb205",
   "metadata": {},
   "outputs": [],
   "source": []
  }
 ],
 "metadata": {
  "kernelspec": {
   "display_name": "Python 3 (ipykernel)",
   "language": "python",
   "name": "python3"
  },
  "language_info": {
   "codemirror_mode": {
    "name": "ipython",
    "version": 3
   },
   "file_extension": ".py",
   "mimetype": "text/x-python",
   "name": "python",
   "nbconvert_exporter": "python",
   "pygments_lexer": "ipython3",
   "version": "3.8.10"
  }
 },
 "nbformat": 4,
 "nbformat_minor": 5
}
