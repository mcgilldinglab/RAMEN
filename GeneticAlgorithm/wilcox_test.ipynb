{
 "cells": [
  {
   "cell_type": "code",
   "execution_count": 4,
   "id": "c7d3fe4b-86dd-4dd8-bed5-c88c712ddad2",
   "metadata": {},
   "outputs": [],
   "source": [
    "from scipy.stats import chi2_contingency\n",
    "import pandas as pd\n",
    "from MakeCytoScapeCSV import EdgesToEndVarEdgeList, ComputeMutualInformation\n",
    "import numpy as np\n",
    "from temp import pnummap\n",
    "import pickle\n",
    "import random"
   ]
  },
  {
   "cell_type": "code",
   "execution_count": 8,
   "id": "99a2fa48-39ac-49b1-8d4b-36b1ea91f9b6",
   "metadata": {},
   "outputs": [],
   "source": [
    "sev = \"If a screening test for SARS-CoV-2 by PCR was performed, what is the most severe severity level (according to WHO) achieved?\"\n",
    "long = \"Long Covid\"\n",
    "\n",
    "#sev_list = EdgesToEndVarEdgeList( \"Results/AcceptedResults/sev_ranking.txt\", sev )\n",
    "long_list = EdgesToEndVarEdgeList( \"Results/AcceptedResults/new_long_cov_ranking.txt\", long )"
   ]
  },
  {
   "cell_type": "code",
   "execution_count": 9,
   "id": "6bfe03e8-a88a-4ccc-8852-254e3d114685",
   "metadata": {},
   "outputs": [],
   "source": [
    "#sev_top = sev_list[ 0:10 ]\n",
    "long_top = long_list[ 0:10 ]"
   ]
  },
  {
   "cell_type": "code",
   "execution_count": 10,
   "id": "24591ba0-77e6-4298-ba1a-87a975d5a207",
   "metadata": {},
   "outputs": [
    {
     "data": {
      "text/plain": [
       "['Shortness of breath (Dyspnea) ?',\n",
       " 'Joint pain (Arthralgia) ?',\n",
       " 'Loss of taste / lost of smell ?',\n",
       " 'Chest pain ?',\n",
       " 'Loss of appetite ?',\n",
       " 'Fatigue ?',\n",
       " 'Diarrhea ?',\n",
       " 'Extremity weakness or numbness ?',\n",
       " 'Number of comorbidities: ',\n",
       " 'Nausea / vomiting ?']"
      ]
     },
     "execution_count": 10,
     "metadata": {},
     "output_type": "execute_result"
    }
   ],
   "source": [
    "long_top"
   ]
  },
  {
   "cell_type": "code",
   "execution_count": 11,
   "id": "e5678bff-b7e4-4bc4-804d-0baa9516e58f",
   "metadata": {},
   "outputs": [],
   "source": [
    "#compute the p-value from wilcoxon\n",
    "\n",
    "def ComputeWilcoxon_pvalue( df, var, end_var ):\n",
    "    array = pnummap( df, var, end_var )\n",
    "    #w1, w2 = MakeWilcoxArrays( array )\n",
    "    #return fisher_exact( [ w1, w2 ] ).pvalue\n",
    "    return chi2_contingency( array )[ 1 ]\n",
    "\n",
    "def MakeWilcoxArrays( p_matrix ):\n",
    "    if ( len(p_matrix) <= 2 ):\n",
    "        return p_matrix[ 0 ], p_matrix[ 1 ]\n",
    "    splitter = int(len( p_matrix )/2)\n",
    "    if ( len(p_matrix) % 2 == 0 ):\n",
    "        sub_m1 = p_matrix[0: splitter]\n",
    "        sub_m2 = p_matrix[splitter:]\n",
    "    else:\n",
    "        sub_m1 = p_matrix[0: splitter]\n",
    "        sub_m2 = p_matrix[splitter+1: ]\n",
    "    return sub_m1.flatten(), sub_m2.flatten()"
   ]
  },
  {
   "cell_type": "code",
   "execution_count": 12,
   "id": "11bc65e0-d889-41f5-871a-35a0cf8c1981",
   "metadata": {},
   "outputs": [],
   "source": [
    "def GetRandomVarsNotInNetwork( dataframe, network_nodes ):\n",
    "    vars_not_in = GetVarsNotInNetwork( dataframe, network_nodes )\n",
    "    randoms = random.sample( vars_not_in, 10)\n",
    "    return randoms\n",
    "\n",
    "def GetVarsNotInNetwork( dataframe, network_nodes ):\n",
    "    not_in = []\n",
    "    variables = list( dataframe.columns )\n",
    "    for var in variables:\n",
    "        if ( var not in network_nodes and var != \"Severity\" and var != \"Long Covid\" ):\n",
    "            not_in.append( var )\n",
    "    return not_in "
   ]
  },
  {
   "cell_type": "code",
   "execution_count": 13,
   "id": "5dcba46f-410d-4aaa-8122-301c4c46cbe2",
   "metadata": {},
   "outputs": [],
   "source": [
    "dataframe = pd.read_csv( \"CsvData/long.csv\" )\n",
    "\n",
    "p_values_long_best = []\n",
    "for var in long_top:\n",
    "    p_values_long_best.append( ComputeWilcoxon_pvalue( dataframe, var, \"Long Covid\" ) )"
   ]
  },
  {
   "cell_type": "code",
   "execution_count": 14,
   "id": "b4ac91f7-22af-4328-b22f-32c5f52ae81d",
   "metadata": {},
   "outputs": [],
   "source": [
    "file = open( \"p_values/new_long_cov_p_values.txt\", \"w\" )\n",
    "for i in range( len( p_values_long_best) ):\n",
    "    file.write( long_list[ i ] + \": \" + str( p_values_long_best[ i ] ) + \"\\n\")\n",
    "file.close()\n",
    "    "
   ]
  },
  {
   "cell_type": "code",
   "execution_count": 15,
   "id": "83ed317d-d15d-40a3-9bc3-624813acf174",
   "metadata": {},
   "outputs": [],
   "source": [
    "sucesses = []\n",
    "for i in range( 100 ):\n",
    "    random_vars = GetRandomVarsNotInNetwork( dataframe, long_list )\n",
    "    p_values = []\n",
    "    for var in random_vars:\n",
    "        p_values.append( ComputeWilcoxon_pvalue( dataframe, var, \"Long Covid\" ) )\n",
    "    success_count = 0\n",
    "    for i in range( len( p_values ) ):\n",
    "        if ( p_values[ i ] < 0.01 ):\n",
    "            success_count += 1\n",
    "    sucesses.append( success_count )"
   ]
  },
  {
   "cell_type": "code",
   "execution_count": 16,
   "id": "54157752-6270-4aee-86b2-a74cf99ef793",
   "metadata": {},
   "outputs": [
    {
     "name": "stdout",
     "output_type": "stream",
     "text": [
      "[3, 2, 3, 2, 2, 1, 4, 3, 2, 1, 2, 1, 1, 1, 1, 2, 3, 3, 2, 2, 2, 0, 1, 1, 1, 2, 1, 3, 2, 2, 4, 3, 0, 2, 2, 0, 1, 2, 2, 3, 2, 3, 1, 3, 2, 0, 2, 2, 0, 1, 2, 4, 1, 3, 3, 1, 2, 0, 3, 1, 2, 1, 2, 3, 1, 2, 0, 1, 0, 1, 0, 2, 1, 1, 2, 2, 2, 2, 2, 0, 2, 3, 2, 3, 2, 2, 2, 1, 3, 2, 4, 0, 3, 2, 2, 1, 2, 1, 1, 2]\n"
     ]
    }
   ],
   "source": [
    "print(sucesses)"
   ]
  },
  {
   "cell_type": "code",
   "execution_count": 18,
   "id": "be4f9cba-7ba1-4ecb-817b-8474795f5a17",
   "metadata": {},
   "outputs": [
    {
     "name": "stdout",
     "output_type": "stream",
     "text": [
      "1.78\n"
     ]
    }
   ],
   "source": [
    "print(np.array(sucesses).mean())"
   ]
  },
  {
   "cell_type": "code",
   "execution_count": null,
   "id": "95e6017c-a090-42cc-8eae-276a847233fa",
   "metadata": {},
   "outputs": [],
   "source": []
  }
 ],
 "metadata": {
  "kernelspec": {
   "display_name": "Python 3 (ipykernel)",
   "language": "python",
   "name": "python3"
  },
  "language_info": {
   "codemirror_mode": {
    "name": "ipython",
    "version": 3
   },
   "file_extension": ".py",
   "mimetype": "text/x-python",
   "name": "python",
   "nbconvert_exporter": "python",
   "pygments_lexer": "ipython3",
   "version": "3.8.10"
  }
 },
 "nbformat": 4,
 "nbformat_minor": 5
}
