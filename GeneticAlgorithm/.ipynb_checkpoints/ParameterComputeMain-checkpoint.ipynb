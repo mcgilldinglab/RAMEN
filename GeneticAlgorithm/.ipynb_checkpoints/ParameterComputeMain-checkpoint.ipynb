{
 "cells": [
  {
   "cell_type": "code",
   "execution_count": 1,
   "id": "cc7df992-34c1-45b1-96b5-d246ad566a86",
   "metadata": {},
   "outputs": [],
   "source": [
    "from CandidateMaker import SignificantEdgesToGraph\n",
    "from ParameterComputePgmpy import ParameterComputer\n",
    "import pandas as pd"
   ]
  },
  {
   "cell_type": "code",
   "execution_count": 2,
   "id": "13e04b50-431e-4229-a522-0aa42b9c32e8",
   "metadata": {},
   "outputs": [],
   "source": [
    "g = SignificantEdgesToGraph(\"Results/long_covid_resultx.txt\") #\"ParameterTesting.csv\")\n",
    "df = pd.read_csv( \"CsvData/ParameterTest_long.csv\" )\n",
    "parameter_computer = ParameterComputer( \"VarRefs/long_covid_var_ref.pickle\", df, g )"
   ]
  },
  {
   "cell_type": "code",
   "execution_count": 25,
   "id": "d57f928d-151c-4917-95e5-994b72a9c272",
   "metadata": {},
   "outputs": [
    {
     "name": "stdout",
     "output_type": "stream",
     "text": [
      "[[0.95669962 0.89353612]\n",
      " [0.04330038 0.10646388]]\n"
     ]
    },
    {
     "data": {
      "text/plain": [
       "0.8935361216730038"
      ]
     },
     "execution_count": 25,
     "metadata": {},
     "output_type": "execute_result"
    }
   ],
   "source": [
    "#parameter_computer.ComputeProbability( \"Runny nose (Rhinorrhea) ?\", \"Yes\", \"Long Covid\", \"1\" )\n",
    "parameter_computer.ComputeProbability( \"Long Covid\", \"1\", \"Runny nose (Rhinorrhea) ?.1\", \"No\" ) #Can use this as an example to describe"
   ]
  },
  {
   "cell_type": "code",
   "execution_count": null,
   "id": "d01c38cf-367a-47c5-954f-9e0a9c0e9f1b",
   "metadata": {},
   "outputs": [],
   "source": []
  },
  {
   "cell_type": "code",
   "execution_count": null,
   "id": "92cf7689-1237-46ac-919a-9c2ec5b148ae",
   "metadata": {},
   "outputs": [],
   "source": []
  }
 ],
 "metadata": {
  "kernelspec": {
   "display_name": "Python 3 (ipykernel)",
   "language": "python",
   "name": "python3"
  },
  "language_info": {
   "codemirror_mode": {
    "name": "ipython",
    "version": 3
   },
   "file_extension": ".py",
   "mimetype": "text/x-python",
   "name": "python",
   "nbconvert_exporter": "python",
   "pygments_lexer": "ipython3",
   "version": "3.8.10"
  }
 },
 "nbformat": 4,
 "nbformat_minor": 5
}
