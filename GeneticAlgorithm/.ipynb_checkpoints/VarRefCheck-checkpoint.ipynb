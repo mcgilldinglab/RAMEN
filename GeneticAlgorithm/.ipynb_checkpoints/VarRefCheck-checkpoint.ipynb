{
 "cells": [
  {
   "cell_type": "code",
   "execution_count": 1,
   "id": "b40886c8-2243-4497-91e9-9a65c9303d00",
   "metadata": {},
   "outputs": [],
   "source": [
    "import pandas as pd"
   ]
  },
  {
   "cell_type": "code",
   "execution_count": 1,
   "id": "8d817f9d-912f-4690-9ded-37db9972faeb",
   "metadata": {},
   "outputs": [],
   "source": [
    "import pickle\n",
    "\n",
    "file = open( \"VarRefs/sev_ref.pickle\", \"rb\" )\n",
    "refs = pickle.load( file )\n",
    "file.close()"
   ]
  },
  {
   "cell_type": "code",
   "execution_count": 3,
   "id": "33293edf-2935-49bf-b20b-b1aff7bd94ae",
   "metadata": {},
   "outputs": [
    {
     "name": "stdout",
     "output_type": "stream",
     "text": [
      "If a screening test for SARS-CoV-2 by PCR was performed, what is the most severe severity level (according to WHO) achieved?\n"
     ]
    }
   ],
   "source": [
    "for key in refs:\n",
    "    if (\"severity\" in key.lower()):\n",
    "        print(key)"
   ]
  },
  {
   "cell_type": "code",
   "execution_count": 4,
   "id": "9a7190ce-f8cf-4223-95e6-00a247d156b6",
   "metadata": {},
   "outputs": [
    {
     "name": "stdout",
     "output_type": "stream",
     "text": [
      "{'-999': -999, '-999.0': -999, 'Moderate': 0, 'Severe': 1, 'Dead': 2, 'Mild': 3, 'Uninfected': 4}\n"
     ]
    }
   ],
   "source": [
    "string = \"If a screening test for SARS-CoV-2 by PCR was performed, what is the most severe severity level (according to WHO) achieved?\"\n",
    "print( refs.get( string ) )"
   ]
  },
  {
   "cell_type": "code",
   "execution_count": null,
   "id": "ce296a93-354d-4b5a-b7e7-37d6af52824a",
   "metadata": {},
   "outputs": [],
   "source": [
    "dictionary = { 0: 0, 1: 1, 2: 1, 3: 0, 4: 0 }"
   ]
  }
 ],
 "metadata": {
  "kernelspec": {
   "display_name": "Python 3 (ipykernel)",
   "language": "python",
   "name": "python3"
  },
  "language_info": {
   "codemirror_mode": {
    "name": "ipython",
    "version": 3
   },
   "file_extension": ".py",
   "mimetype": "text/x-python",
   "name": "python",
   "nbconvert_exporter": "python",
   "pygments_lexer": "ipython3",
   "version": "3.8.10"
  }
 },
 "nbformat": 4,
 "nbformat_minor": 5
}
