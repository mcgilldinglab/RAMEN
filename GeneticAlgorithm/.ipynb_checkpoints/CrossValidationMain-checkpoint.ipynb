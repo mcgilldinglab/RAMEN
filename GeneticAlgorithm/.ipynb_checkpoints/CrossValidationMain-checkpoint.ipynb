{
 "cells": [
  {
   "cell_type": "code",
   "execution_count": 1,
   "id": "b0c060a7-1223-413a-8e4b-d0845fe60847",
   "metadata": {},
   "outputs": [],
   "source": [
    "from CrossValidation import ScoreNetwork"
   ]
  },
  {
   "cell_type": "code",
   "execution_count": 2,
   "id": "e7724f0c-d59d-48d1-a90c-4df0a3ee5a13",
   "metadata": {},
   "outputs": [
    {
     "name": "stdout",
     "output_type": "stream",
     "text": [
      "262.5859060165742\n"
     ]
    }
   ],
   "source": [
    "print( ScoreNetwork( \"TestingData.csv\", \"FinalStructure0.txt\") )"
   ]
  },
  {
   "cell_type": "code",
   "execution_count": 3,
   "id": "acb3d5af-b111-4166-8387-359617f644e1",
   "metadata": {},
   "outputs": [
    {
     "name": "stdout",
     "output_type": "stream",
     "text": [
      "181.99124283771346\n"
     ]
    }
   ],
   "source": [
    "print( ScoreNetwork( \"TestingData.csv\", \"FinalStructure01.txt\") )"
   ]
  },
  {
   "cell_type": "code",
   "execution_count": 2,
   "id": "f72bb1de-0f16-4e1c-acda-061ab8f5e404",
   "metadata": {},
   "outputs": [
    {
     "name": "stdout",
     "output_type": "stream",
     "text": [
      "268.37923216474235\n"
     ]
    }
   ],
   "source": [
    "print( ScoreNetwork( \"TestingData.csv\", \"FinalStructure03.txt\") )"
   ]
  },
  {
   "cell_type": "code",
   "execution_count": 4,
   "id": "3ff251a7-456d-459e-a51e-79472029d60a",
   "metadata": {},
   "outputs": [
    {
     "name": "stdout",
     "output_type": "stream",
     "text": [
      "193.99144469593375\n"
     ]
    }
   ],
   "source": [
    "print( ScoreNetwork( \"TestingData.csv\", \"FinalStructure025.txt\") )"
   ]
  },
  {
   "cell_type": "code",
   "execution_count": 3,
   "id": "fc5abf54-1f51-4a8d-ad4a-c3b62a1ca55b",
   "metadata": {},
   "outputs": [
    {
     "name": "stdout",
     "output_type": "stream",
     "text": [
      "192.9840859058907\n"
     ]
    }
   ],
   "source": [
    "print( ScoreNetwork( \"TestingData.csv\", \"FinalStructure035.txt\") )"
   ]
  },
  {
   "cell_type": "code",
   "execution_count": 5,
   "id": "21fb2344-777a-48bf-bacc-75acadbd2b82",
   "metadata": {},
   "outputs": [
    {
     "name": "stdout",
     "output_type": "stream",
     "text": [
      "132.2925628730481\n"
     ]
    }
   ],
   "source": [
    "print( ScoreNetwork( \"TestingData.csv\", \"FinalStructure05.txt\") )"
   ]
  },
  {
   "cell_type": "code",
   "execution_count": 6,
   "id": "09b38ad0-d67c-42ff-89d9-62a03b910514",
   "metadata": {},
   "outputs": [
    {
     "name": "stdout",
     "output_type": "stream",
     "text": [
      "131.7903584619902\n"
     ]
    }
   ],
   "source": [
    "print( ScoreNetwork( \"TestingData.csv\", \"FinalStructure075.txt\") )"
   ]
  },
  {
   "cell_type": "code",
   "execution_count": 7,
   "id": "e8f5ac63-196c-4d64-a0ad-bd0b2ec4fba9",
   "metadata": {},
   "outputs": [
    {
     "name": "stdout",
     "output_type": "stream",
     "text": [
      "136.2960159258027\n"
     ]
    }
   ],
   "source": [
    "print( ScoreNetwork( \"TestingData.csv\", \"FinalStructure09.txt\") )"
   ]
  },
  {
   "cell_type": "code",
   "execution_count": 8,
   "id": "39f0e89e-ae12-4d9a-84c4-33a00deb3ec6",
   "metadata": {},
   "outputs": [
    {
     "name": "stdout",
     "output_type": "stream",
     "text": [
      "140.2563913412892\n"
     ]
    }
   ],
   "source": [
    "print( ScoreNetwork( \"TestingData.csv\", \"FinalStructure1.txt\") )"
   ]
  },
  {
   "cell_type": "code",
   "execution_count": 4,
   "id": "51fa5095-7ada-4793-a369-279437410b3d",
   "metadata": {},
   "outputs": [],
   "source": [
    "import matplotlib.pyplot as plt"
   ]
  },
  {
   "cell_type": "code",
   "execution_count": 5,
   "id": "8db94b7c-01b7-48b9-89cc-8d4a32d00dbc",
   "metadata": {},
   "outputs": [
    {
     "data": {
      "text/plain": [
       "[<matplotlib.lines.Line2D at 0x7fc09a1f04c0>]"
      ]
     },
     "execution_count": 5,
     "metadata": {},
     "output_type": "execute_result"
    },
    {
     "data": {
      "image/png": "[encoded data removed]",
      "text/plain": [
       "<Figure size 432x288 with 1 Axes>"
      ]
     },
     "metadata": {
      "needs_background": "light"
     },
     "output_type": "display_data"
    }
   ],
   "source": [
    "plt.plot([0, 0.1, 0.25,0.35, 0.5, 0.75, 0.9, 1 ], [ 262.5859060165742, 181.99124283771346, 193.99144469593375, 192.9840859058907, 132.2925628730481, 131.7903584619902, 136.2960159258027, 140.2563913412892])"
   ]
  },
  {
   "cell_type": "code",
   "execution_count": null,
   "id": "e4deafc8-7c0a-4a55-9168-6884792f752e",
   "metadata": {},
   "outputs": [],
   "source": []
  }
 ],
 "metadata": {
  "kernelspec": {
   "display_name": "Python 3 (ipykernel)",
   "language": "python",
   "name": "python3"
  },
  "language_info": {
   "codemirror_mode": {
    "name": "ipython",
    "version": 3
   },
   "file_extension": ".py",
   "mimetype": "text/x-python",
   "name": "python",
   "nbconvert_exporter": "python",
   "pygments_lexer": "ipython3",
   "version": "3.8.10"
  }
 },
 "nbformat": 4,
 "nbformat_minor": 5
}
