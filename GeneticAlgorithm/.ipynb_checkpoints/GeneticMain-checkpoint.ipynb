{
 "cells": [
  {
   "cell_type": "code",
   "execution_count": 1,
   "id": "e783ed9e-6542-4530-966a-df6fefd52155",
   "metadata": {},
   "outputs": [],
   "source": [
    "from GeneticAlgorithmLauncher import StructuredLearningRun"
   ]
  },
  {
   "cell_type": "code",
   "execution_count": null,
   "id": "cba2ecbe-3d60-4b51-8b96-c291cb82ece7",
   "metadata": {},
   "outputs": [
    {
     "name": "stdout",
     "output_type": "stream",
     "text": [
      "80\n",
      "initializing scorer\n",
      "done initializing scorer\n",
      "making candidates\n",
      "Finished making candidates in: 1.2895676500047557\n",
      "starting Genetic Algorithm\n",
      "-60.25\n"
     ]
    }
   ],
   "source": [
    "#StructuredLearningRun( \"LearningData.csv\", \"notcorrected001v11.txt\", 10, 1, 100, 10, 3, 0.3, \"FinalStructure03.txt\" )\n",
    "#StructuredLearningRun( \"LearningData.csv\", \"CandidatesFile2.txt\", 10, 0.25, 100, 10, 10, 1, \"NewFinalStructureTEST18.txt\", 100, \"\", 0.10, 0.255 )\n",
    "#CandidatesSaveFile\n",
    "#StructuredLearningRun( \"CsvData/long_covid_out3.csv\", \"SignificantEdges/long_cov_sig.txt\", 10, 0.25, 100, 10, 10, 1, \"Results/long_out101.txt\", 200, \"\", 0.1, 0.02 )\n",
    "#StructuredLearningRun( \"CsvData/long_cov_out.csv\", \"SignificantEdges/long_cov_sig.txt\", 10, 0.1, 100, 10, 10, 1, \"Results/long_out010051.txt\", 200, \"\", 0.1, 0.051 )\n",
    "\n",
    "StructuredLearningRun( \"CsvData/long_cov_out.csv\", \"SignificantEdges/long_cov_sig.txt\", 10, 0.01, 100, 10, 10, 1, \"Results/long0075.txt\", 200, \"\", 0, 0.75 )"
   ]
  },
  {
   "cell_type": "code",
   "execution_count": null,
   "id": "bd28b26d-c898-46ef-acb2-fda0a85d6a65",
   "metadata": {},
   "outputs": [],
   "source": []
  }
 ],
 "metadata": {
  "kernelspec": {
   "display_name": "Python 3 (ipykernel)",
   "language": "python",
   "name": "python3"
  },
  "language_info": {
   "codemirror_mode": {
    "name": "ipython",
    "version": 3
   },
   "file_extension": ".py",
   "mimetype": "text/x-python",
   "name": "python",
   "nbconvert_exporter": "python",
   "pygments_lexer": "ipython3",
   "version": "3.8.10"
  }
 },
 "nbformat": 4,
 "nbformat_minor": 5
}
