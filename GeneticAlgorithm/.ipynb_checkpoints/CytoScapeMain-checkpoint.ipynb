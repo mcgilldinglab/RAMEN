{
 "cells": [
  {
   "cell_type": "code",
   "execution_count": 4,
   "id": "27f3f689-6136-4256-9c5c-43a40793d9e2",
   "metadata": {},
   "outputs": [],
   "source": [
    "from MakeCytoScapeCSV import SignificantEdgesToGraph, MakeCytoScapeCSV, MakeCytoFiles, MakeMutualInformationRanking"
   ]
  },
  {
   "cell_type": "code",
   "execution_count": 2,
   "id": "258a2b20-2494-4d11-b6bf-21960c0bfb05",
   "metadata": {},
   "outputs": [],
   "source": [
    "MakeCytoFiles( \"Results/AcceptedResults/long_out01005notbad.txt\", \"cyto_csv/long_cov_out_net.csv\", \"cyto_csv/long_cov_noa.noa\" )\n",
    "MakeCytoFiles( \"Results/AcceptedResults/sev_intest075025NOTBAD.txt\",\"cyto_csv/sev_net.csv\", \"cyto_csv/sev_net_noa.noa\" )"
   ]
  },
  {
   "cell_type": "code",
   "execution_count": 7,
   "id": "bccfca27-44e9-49c6-8cd5-6ea5ef76a7b1",
   "metadata": {},
   "outputs": [],
   "source": [
    "MakeMutualInformationRanking( \"Results/AcceptedResults/newlong000005good.txt\", \"CsvData/long_cov_out.csv\", \"Results/AcceptedResults/new_long_cov_ranking.txt\")"
   ]
  },
  {
   "cell_type": "code",
   "execution_count": 3,
   "id": "624bfef0-d9de-4e36-a37f-3662a0ddb218",
   "metadata": {},
   "outputs": [],
   "source": [
    "#MakeMutualInformationRanking( \"Results/AcceptedResults/sev_intest075025NOTBAD.txt\", \"CsvData/sev_in.csv\", \"Results/AcceptedResults/sev_ranking.txt\")"
   ]
  },
  {
   "cell_type": "code",
   "execution_count": 3,
   "id": "c2574f9c-7512-401f-b5d4-44a9370fec6f",
   "metadata": {},
   "outputs": [],
   "source": [
    "#MakeCytoFiles( \"Results/AcceptedResults/newlong000005good.txt\", \"cyto_csv/long_cov_out.sif\", \"cyto_csv/long_cov_out.noa\" )"
   ]
  },
  {
   "cell_type": "code",
   "execution_count": null,
   "id": "2e054f09-5797-4860-85ca-2eabad61eb36",
   "metadata": {},
   "outputs": [],
   "source": [
    "MakeCytoFiles( \"Results/AcceptedResults/new_long_cov_ranking.txt\", \"cyto_csv/long_cov_out.sif\", \"cyto_csv/long_cov_out.noa\" )"
   ]
  }
 ],
 "metadata": {
  "kernelspec": {
   "display_name": "Python 3 (ipykernel)",
   "language": "python",
   "name": "python3"
  },
  "language_info": {
   "codemirror_mode": {
    "name": "ipython",
    "version": 3
   },
   "file_extension": ".py",
   "mimetype": "text/x-python",
   "name": "python",
   "nbconvert_exporter": "python",
   "pygments_lexer": "ipython3",
   "version": "3.8.10"
  }
 },
 "nbformat": 4,
 "nbformat_minor": 5
}
