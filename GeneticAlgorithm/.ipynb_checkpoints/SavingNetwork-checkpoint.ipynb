{
 "cells": [
  {
   "cell_type": "code",
   "execution_count": 1,
   "id": "4013b101-519c-41a1-96cf-679b3b51c090",
   "metadata": {},
   "outputs": [],
   "source": [
    "from CandidateMaker import SignificantEdgesToGraph"
   ]
  },
  {
   "cell_type": "code",
   "execution_count": 2,
   "id": "cafc01f3-5550-4ec3-bf87-407e083d0fc4",
   "metadata": {
    "tags": []
   },
   "outputs": [
    {
     "ename": "FileNotFoundError",
     "evalue": "[Errno 2] No such file or directory: 'Results/severity_result.txt'",
     "output_type": "error",
     "traceback": [
      "\u001b[0;31m---------------------------------------------------------------------------\u001b[0m",
      "\u001b[0;31mFileNotFoundError\u001b[0m                         Traceback (most recent call last)",
      "\u001b[0;32m/tmp/ipykernel_2659415/3817054919.py\u001b[0m in \u001b[0;36m<module>\u001b[0;34m\u001b[0m\n\u001b[1;32m      1\u001b[0m \u001b[0;31m#g_long = SignificantEdgesToGraph(\"Results/AcceptedResults/long_covid_out.txt\")\u001b[0m\u001b[0;34m\u001b[0m\u001b[0;34m\u001b[0m\u001b[0;34m\u001b[0m\u001b[0m\n\u001b[0;32m----> 2\u001b[0;31m \u001b[0mg_sev\u001b[0m \u001b[0;34m=\u001b[0m \u001b[0mSignificantEdgesToGraph\u001b[0m\u001b[0;34m(\u001b[0m\u001b[0;34m\"Results/severity_result.txt\"\u001b[0m\u001b[0;34m)\u001b[0m\u001b[0;34m\u001b[0m\u001b[0;34m\u001b[0m\u001b[0m\n\u001b[0m",
      "\u001b[0;32m/mnt/data/yiwei/GeneticAlgorithm/CandidateMaker.py\u001b[0m in \u001b[0;36mSignificantEdgesToGraph\u001b[0;34m(filename)\u001b[0m\n\u001b[1;32m     35\u001b[0m \u001b[0;32mdef\u001b[0m \u001b[0mSignificantEdgesToGraph\u001b[0m\u001b[0;34m(\u001b[0m \u001b[0mfilename\u001b[0m \u001b[0;34m)\u001b[0m\u001b[0;34m:\u001b[0m\u001b[0;34m\u001b[0m\u001b[0;34m\u001b[0m\u001b[0m\n\u001b[1;32m     36\u001b[0m     \u001b[0mg\u001b[0m \u001b[0;34m=\u001b[0m \u001b[0mnx\u001b[0m\u001b[0;34m.\u001b[0m\u001b[0mDiGraph\u001b[0m\u001b[0;34m(\u001b[0m\u001b[0;34m)\u001b[0m\u001b[0;34m\u001b[0m\u001b[0;34m\u001b[0m\u001b[0m\n\u001b[0;32m---> 37\u001b[0;31m     \u001b[0mfile1\u001b[0m \u001b[0;34m=\u001b[0m \u001b[0mopen\u001b[0m\u001b[0;34m(\u001b[0m \u001b[0mfilename\u001b[0m\u001b[0;34m,\u001b[0m \u001b[0;34m'r'\u001b[0m\u001b[0;34m)\u001b[0m\u001b[0;34m\u001b[0m\u001b[0;34m\u001b[0m\u001b[0m\n\u001b[0m\u001b[1;32m     38\u001b[0m     \u001b[0mLines\u001b[0m \u001b[0;34m=\u001b[0m \u001b[0mfile1\u001b[0m\u001b[0;34m.\u001b[0m\u001b[0mreadlines\u001b[0m\u001b[0;34m(\u001b[0m\u001b[0;34m)\u001b[0m\u001b[0;34m\u001b[0m\u001b[0;34m\u001b[0m\u001b[0m\n\u001b[1;32m     39\u001b[0m     \u001b[0medges\u001b[0m \u001b[0;34m=\u001b[0m \u001b[0;34m[\u001b[0m\u001b[0;34m]\u001b[0m\u001b[0;34m\u001b[0m\u001b[0;34m\u001b[0m\u001b[0m\n",
      "\u001b[0;31mFileNotFoundError\u001b[0m: [Errno 2] No such file or directory: 'Results/severity_result.txt'"
     ]
    }
   ],
   "source": [
    "#g_long = SignificantEdgesToGraph(\"Results/AcceptedResults/long_covid_out.txt\")\n",
    "g_sev = SignificantEdgesToGraph(\"Results/AcceptedResults/severity_result.txt\")"
   ]
  },
  {
   "cell_type": "code",
   "execution_count": 12,
   "id": "42c95a51-1ab1-498e-923e-86ade358b231",
   "metadata": {},
   "outputs": [
    {
     "name": "stdout",
     "output_type": "stream",
     "text": [
      "103\n"
     ]
    }
   ],
   "source": [
    "print(g_sev.number_of_nodes())"
   ]
  },
  {
   "cell_type": "code",
   "execution_count": 13,
   "id": "af2b9321-d1f7-4036-bcf4-a1e9f0ea4c28",
   "metadata": {},
   "outputs": [],
   "source": [
    "import pickle"
   ]
  },
  {
   "cell_type": "code",
   "execution_count": 14,
   "id": "20ea4de5-e1f2-4da0-bff0-7d9097fe5dbd",
   "metadata": {},
   "outputs": [],
   "source": [
    "file = open( \"NetworkXpickles/long_cov_nx.pickle\", \"ab\" )\n",
    "pickle.dump( g_long, file )\n",
    "file.close()"
   ]
  },
  {
   "cell_type": "code",
   "execution_count": 5,
   "id": "355fa650-e238-4068-a556-2eb2b60a86f8",
   "metadata": {},
   "outputs": [],
   "source": [
    "file = open( \"NetworkXpickles/sev_cov_nx.pickle\", \"ab\" )\n",
    "pickle.dump( g_sev, file )\n",
    "file.close()"
   ]
  },
  {
   "cell_type": "code",
   "execution_count": 17,
   "id": "a9a3a757-4cc0-4262-934e-aa241d049ed5",
   "metadata": {},
   "outputs": [
    {
     "name": "stdout",
     "output_type": "stream",
     "text": [
      "103\n"
     ]
    }
   ],
   "source": [
    "file = open( \"NetworkXpickles/sev_cov_nx\", \"rb\" )\n",
    "network = pickle.load( file )\n",
    "file.close()\n",
    "print( network.number_of_nodes() )"
   ]
  },
  {
   "cell_type": "code",
   "execution_count": null,
   "id": "f5f72143-6bff-4536-8975-c4b14800d30e",
   "metadata": {},
   "outputs": [],
   "source": []
  }
 ],
 "metadata": {
  "kernelspec": {
   "display_name": "Python 3 (ipykernel)",
   "language": "python",
   "name": "python3"
  },
  "language_info": {
   "codemirror_mode": {
    "name": "ipython",
    "version": 3
   },
   "file_extension": ".py",
   "mimetype": "text/x-python",
   "name": "python",
   "nbconvert_exporter": "python",
   "pygments_lexer": "ipython3",
   "version": "3.8.10"
  }
 },
 "nbformat": 4,
 "nbformat_minor": 5
}
