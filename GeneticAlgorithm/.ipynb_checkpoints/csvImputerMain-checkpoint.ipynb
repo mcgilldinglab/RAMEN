{
 "cells": [
  {
   "cell_type": "code",
   "execution_count": 2,
   "id": "28f849c5-bc06-4283-9ee5-69a9f36b1585",
   "metadata": {},
   "outputs": [],
   "source": [
    "#This main can be used to make the CSV for parameter computing\n",
    "from csvImputer import ImputeCSV"
   ]
  },
  {
   "cell_type": "code",
   "execution_count": 3,
   "id": "0f4b2bca-9f63-474a-9c05-2a273625880b",
   "metadata": {},
   "outputs": [],
   "source": [
    "#MergeCSVs( \"CsvData/long_covid_learn.csv\", \"CsvData/long_covid_test.csv\" )"
   ]
  },
  {
   "cell_type": "code",
   "execution_count": 3,
   "id": "9d57694f-3e66-4c9a-86c6-f345f3bd5fe4",
   "metadata": {},
   "outputs": [],
   "source": [
    "ImputeCSV( \"CsvData/long_covid_out3.csv\", \"CsvData/long_covid_out_param.csv\" )"
   ]
  },
  {
   "cell_type": "code",
   "execution_count": null,
   "id": "0be53032-333b-476b-99de-3f230561b76b",
   "metadata": {},
   "outputs": [],
   "source": []
  }
 ],
 "metadata": {
  "kernelspec": {
   "display_name": "Python 3 (ipykernel)",
   "language": "python",
   "name": "python3"
  },
  "language_info": {
   "codemirror_mode": {
    "name": "ipython",
    "version": 3
   },
   "file_extension": ".py",
   "mimetype": "text/x-python",
   "name": "python",
   "nbconvert_exporter": "python",
   "pygments_lexer": "ipython3",
   "version": "3.8.10"
  }
 },
 "nbformat": 4,
 "nbformat_minor": 5
}
