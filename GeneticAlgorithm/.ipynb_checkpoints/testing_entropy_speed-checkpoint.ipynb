{
 "cells": [
  {
   "cell_type": "code",
   "execution_count": 1,
   "id": "bf6d37e0-4fa4-4023-8c7b-4d850a6f79b3",
   "metadata": {},
   "outputs": [],
   "source": [
    "import numpy as np"
   ]
  },
  {
   "cell_type": "code",
   "execution_count": 3,
   "id": "507431e0-cabd-4092-9fcd-05a46f6b5104",
   "metadata": {},
   "outputs": [],
   "source": [
    "random_array = []\n",
    "for i in range(3000):\n",
    "    randnums= np.random.randint(1,6,5)\n",
    "    random_array.append(randnums)\n",
    "random_array = np.array(random_array)"
   ]
  },
  {
   "cell_type": "code",
   "execution_count": 4,
   "id": "9e01028f-34e2-4f24-a261-2574506e34ab",
   "metadata": {},
   "outputs": [],
   "source": [
    "from pyitlib import discrete_random_variable as drv"
   ]
  },
  {
   "cell_type": "code",
   "execution_count": 6,
   "id": "b820c484-59c9-4ac6-b40a-54cff0888908",
   "metadata": {},
   "outputs": [
    {
     "name": "stdout",
     "output_type": "stream",
     "text": [
      "2.321928094887362\n"
     ]
    }
   ],
   "source": [
    "for i in range(300):\n",
    "    score = drv.entropy_joint(random_array)"
   ]
  },
  {
   "cell_type": "code",
   "execution_count": null,
   "id": "38fa3c0e-86ce-4aeb-bcef-d606b48156e9",
   "metadata": {},
   "outputs": [],
   "source": []
  }
 ],
 "metadata": {
  "kernelspec": {
   "display_name": "Python 3 (ipykernel)",
   "language": "python",
   "name": "python3"
  },
  "language_info": {
   "codemirror_mode": {
    "name": "ipython",
    "version": 3
   },
   "file_extension": ".py",
   "mimetype": "text/x-python",
   "name": "python",
   "nbconvert_exporter": "python",
   "pygments_lexer": "ipython3",
   "version": "3.8.10"
  }
 },
 "nbformat": 4,
 "nbformat_minor": 5
}
