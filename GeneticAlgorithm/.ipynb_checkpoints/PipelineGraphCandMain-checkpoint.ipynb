{
 "cells": [
  {
   "cell_type": "code",
   "execution_count": 1,
   "id": "ed39c79f-fc81-48c5-948e-de4f0b6098c2",
   "metadata": {},
   "outputs": [],
   "source": [
    "from CandidateMaker import MakePipelineGraphDAGs"
   ]
  },
  {
   "cell_type": "code",
   "execution_count": 2,
   "id": "f843cdf4-6422-4cfd-91c6-b54f36d0de1e",
   "metadata": {},
   "outputs": [],
   "source": [
    "candidates = MakePipelineGraphDAGs( \"PipelineGraphSignifEdges/pipelineSchemaGraph.txt\", 11 )"
   ]
  },
  {
   "cell_type": "code",
   "execution_count": 6,
   "id": "27ba0b6b-44c1-4ddc-9307-9ff7c36cfaba",
   "metadata": {},
   "outputs": [],
   "source": [
    "import pickle"
   ]
  },
  {
   "cell_type": "code",
   "execution_count": 8,
   "id": "5764b144-27bc-4999-8905-74e24dbd1df1",
   "metadata": {},
   "outputs": [],
   "source": [
    "file = open( \"PipelineGraphSignifEdges/candidates.pickle\", \"ab\" )\n",
    "refs = pickle.dump( candidates, file )\n",
    "file.close()"
   ]
  },
  {
   "cell_type": "code",
   "execution_count": null,
   "id": "2d7aa056-a01a-4a4e-86d5-51566e1c2854",
   "metadata": {},
   "outputs": [],
   "source": []
  }
 ],
 "metadata": {
  "kernelspec": {
   "display_name": "Python 3 (ipykernel)",
   "language": "python",
   "name": "python3"
  },
  "language_info": {
   "codemirror_mode": {
    "name": "ipython",
    "version": 3
   },
   "file_extension": ".py",
   "mimetype": "text/x-python",
   "name": "python",
   "nbconvert_exporter": "python",
   "pygments_lexer": "ipython3",
   "version": "3.8.10"
  }
 },
 "nbformat": 4,
 "nbformat_minor": 5
}
