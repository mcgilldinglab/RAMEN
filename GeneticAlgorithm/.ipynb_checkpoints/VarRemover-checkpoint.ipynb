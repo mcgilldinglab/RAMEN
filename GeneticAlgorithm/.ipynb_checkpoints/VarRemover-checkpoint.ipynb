{
 "cells": [
  {
   "cell_type": "code",
   "execution_count": 2,
   "id": "5e36e161-5a64-4057-a70f-f1dc903cd5f5",
   "metadata": {},
   "outputs": [],
   "source": [
    "def removeEdgeWithVertex( edges_file, string_to_remove, to_file ):\n",
    "    file1 = open( edges_file, 'r')\n",
    "    file2 = open( to_file, 'w' )\n",
    "    Lines = file1.readlines()\n",
    "    for line in Lines:\n",
    "        if ( string_to_remove not in line ):\n",
    "            file2.write( line )\n",
    "    file1.close()\n",
    "    file2.close()"
   ]
  },
  {
   "cell_type": "code",
   "execution_count": 4,
   "id": "a9d1e251-a5ba-415d-834f-a97917d2d688",
   "metadata": {},
   "outputs": [],
   "source": [
    "removeEdgeWithVertex( \"CandidatesFile.txt\", \"Other COVID-19 treatment(s)\", \"CandidatesFile2.txt\" )"
   ]
  },
  {
   "cell_type": "code",
   "execution_count": null,
   "id": "cb26b5de-c484-4e79-9448-f2270b9e7157",
   "metadata": {},
   "outputs": [],
   "source": []
  }
 ],
 "metadata": {
  "kernelspec": {
   "display_name": "Python 3 (ipykernel)",
   "language": "python",
   "name": "python3"
  },
  "language_info": {
   "codemirror_mode": {
    "name": "ipython",
    "version": 3
   },
   "file_extension": ".py",
   "mimetype": "text/x-python",
   "name": "python",
   "nbconvert_exporter": "python",
   "pygments_lexer": "ipython3",
   "version": "3.8.10"
  }
 },
 "nbformat": 4,
 "nbformat_minor": 5
}
