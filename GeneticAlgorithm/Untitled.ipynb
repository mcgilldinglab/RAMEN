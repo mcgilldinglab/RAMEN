{
 "cells": [
  {
   "cell_type": "code",
   "execution_count": 1,
   "id": "037cb6b0-2450-4220-b0e5-4bf499a79f6d",
   "metadata": {},
   "outputs": [],
   "source": [
    "#from MakeCytoScapeCSV import SignificantEdgesToGraphPickle"
   ]
  },
  {
   "cell_type": "code",
   "execution_count": 1,
   "id": "37241f68-7a7c-43f0-8267-d568967130d9",
   "metadata": {},
   "outputs": [],
   "source": [
    "from MakeCytoScapeCSV import MakeWeightedSif, MakeCytoFiles"
   ]
  },
  {
   "cell_type": "code",
   "execution_count": 4,
   "id": "0f26655d-199d-4310-ae7d-a84bc3d37585",
   "metadata": {},
   "outputs": [],
   "source": [
    "#MakeWeightedSif( \"cyto_csv/sev_final.sif\", \"cyto_csv/temp_sev_final_weight.sif\", \"CsvData/sev_in.csv\" )\n",
    "#MakeWeightedSif( \"cyto_csv/long_cov_final.sif\", \"cyto_csv/long_cov_final_weight.sif\", \"CsvData/long_cov_out.csv\" )\n",
    "\n",
    "#MakeCytoFiles( \"Results/AcceptedResults/long_cov_ranking.txt\", \"cyto_csv/long_cov_classified.sif\", \"cyto_csv/long_cov_classified.noa\" )\n",
    "MakeCytoFiles( \"Results/AcceptedResults/sev_in_basic.txt\", \"cyto_csv/sev_basic.sif\", \"cyto_csv/sev_basic.noa\" )"
   ]
  },
  {
   "cell_type": "code",
   "execution_count": 1,
   "id": "31808a69-c331-40fa-95cd-ecf79e7fde27",
   "metadata": {},
   "outputs": [],
   "source": [
    "from VarNameTranslator import MakeReverseMapping"
   ]
  },
  {
   "cell_type": "code",
   "execution_count": 2,
   "id": "8bc6b015-3973-4811-9dde-f3e12a534ced",
   "metadata": {},
   "outputs": [
    {
     "data": {
      "text/plain": [
       "'Colchicine?'"
      ]
     },
     "execution_count": 2,
     "metadata": {},
     "output_type": "execute_result"
    }
   ],
   "source": [
    "mapping = MakeReverseMapping()\n",
    "mapping[ \"Colchicine?\" ]"
   ]
  },
  {
   "cell_type": "code",
   "execution_count": 1,
   "id": "4982f096-3c3e-4ee5-987a-765753c3c794",
   "metadata": {},
   "outputs": [],
   "source": [
    "from MakeCytoScapeCSV import GetSignificantEdgesScores"
   ]
  },
  {
   "cell_type": "code",
   "execution_count": 2,
   "id": "df42db96-c1d3-43af-ba8e-166c5fe7c447",
   "metadata": {},
   "outputs": [],
   "source": [
    "scores = GetSignificantEdgesScores( \"Results/AcceptedResults/long_cov_ranking.txt\")"
   ]
  },
  {
   "cell_type": "code",
   "execution_count": 10,
   "id": "cb8c23c2-d619-46ac-b9d3-501a742a945e",
   "metadata": {},
   "outputs": [
    {
     "data": {
      "text/plain": [
       "(array([108.,   9.,   5.,   2.,   0.,   0.,   0.,   0.,   0.,   0.,   0.,\n",
       "          1.,   0.,   0.,   0.,   0.,   0.,   0.,   0.,   0.,   0.,   0.,\n",
       "          0.,   0.,   0.,   2.,   0.,   0.,   0.,   0.,   0.,   0.,   0.,\n",
       "          1.,   0.,   0.,   0.,   0.,   0.,   0.,   0.,   1.,   0.,   0.,\n",
       "          0.,   0.,   0.,   0.,   0.,   1.]),\n",
       " array([0.        , 0.01825416, 0.03650833, 0.05476249, 0.07301665,\n",
       "        0.09127082, 0.10952498, 0.12777914, 0.1460333 , 0.16428747,\n",
       "        0.18254163, 0.20079579, 0.21904996, 0.23730412, 0.25555828,\n",
       "        0.27381245, 0.29206661, 0.31032077, 0.32857493, 0.3468291 ,\n",
       "        0.36508326, 0.38333742, 0.40159159, 0.41984575, 0.43809991,\n",
       "        0.45635408, 0.47460824, 0.4928624 , 0.51111657, 0.52937073,\n",
       "        0.54762489, 0.56587905, 0.58413322, 0.60238738, 0.62064154,\n",
       "        0.63889571, 0.65714987, 0.67540403, 0.6936582 , 0.71191236,\n",
       "        0.73016652, 0.74842069, 0.76667485, 0.78492901, 0.80318317,\n",
       "        0.82143734, 0.8396915 , 0.85794566, 0.87619983, 0.89445399,\n",
       "        0.91270815]),\n",
       " <BarContainer object of 50 artists>)"
      ]
     },
     "execution_count": 10,
     "metadata": {},
     "output_type": "execute_result"
    },
    {
     "data": {
      "image/png": "[encoded data removed]",
      "text/plain": [
       "<Figure size 432x288 with 1 Axes>"
      ]
     },
     "metadata": {
      "needs_background": "light"
     },
     "output_type": "display_data"
    }
   ],
   "source": [
    "import matplotlib.pyplot as plt\n",
    "import numpy as np\n",
    "\n",
    "plt.hist( scores, bins = 50)"
   ]
  },
  {
   "cell_type": "code",
   "execution_count": 1,
   "id": "216a4e72-95fb-475e-a2aa-7ccb24346c88",
   "metadata": {},
   "outputs": [],
   "source": [
    "from MakeCytoScapeCSV import ComputeMutualInformation\n",
    "import pandas as pd"
   ]
  },
  {
   "cell_type": "code",
   "execution_count": 24,
   "id": "bf1bc9a2-063b-49c6-a9e2-8253fb9a12d8",
   "metadata": {},
   "outputs": [],
   "source": [
    "df = pd.read_csv( \"CsvData/long_cov_out.csv\" )\n",
    "write_file = open( \"long_vars.txt\", \"w\" )"
   ]
  },
  {
   "cell_type": "code",
   "execution_count": 25,
   "id": "55d15f1c-f48d-4e7d-b5a2-f824da2499f7",
   "metadata": {},
   "outputs": [],
   "source": [
    "\n",
    "\n",
    "mi_var = []\n",
    "severity_string = \"Long Covid\"\n",
    "#severity_string = \"If a screening test for SARS-CoV-2 by PCR was performed, what is the most severe severity level (according to WHO) achieved?\"\n",
    "columns = list( df.columns )\n",
    "for i in range( len( columns ) ):\n",
    "    if ( columns[ i ] != severity_string ):\n",
    "        vector1 = df[ columns[ i ] ]\n",
    "        vector2 = df[ severity_string ]\n",
    "        mi = ComputeMutualInformation( vector1, vector2 )\n",
    "        #Variables.append( columns[ i ] )\n",
    "        #MIs.append( mi )\n",
    "        mi_var.append( (mi, columns[ i ] ) )\n",
    "mi_var = sorted( mi_var, reverse = True )\n",
    "\n",
    "for x in mi_var:\n",
    "    write_file.write( x[1] + \"\\n\" )\n",
    "write_file.close()\n",
    "\n",
    "# variables = list( df.columns )\n",
    "\n",
    "# file = open( \"sev_in.txt\", \"w\" )\n",
    "# to_write = []\n",
    "\n",
    "# for i in range( len( variables ) ):\n",
    "#     if ( variables[ i ] == severity_string ):\n",
    "#         continue\n",
    "#     vector1 = df[ variables[ i ] ]\n",
    "#     vector2 = df[ severity_string ]\n",
    "#     mi = ComputeMutualInformation( vector1, vector2 )\n",
    "#     to_write.append( (mi, variables[ i ] ) )\n",
    "# to_write = sorted( to_write )\n",
    "\n",
    "# for write in to_write:\n",
    "#     file.write( str( write[ 1 ] ) +\": \" +str( write[ 0 ]) + \"\\n\" )\n",
    "# file.close()"
   ]
  },
  {
   "cell_type": "code",
   "execution_count": 7,
   "id": "68566b27-40be-4316-a931-5c1a9305eb61",
   "metadata": {},
   "outputs": [
    {
     "name": "stdout",
     "output_type": "stream",
     "text": [
      "299\n"
     ]
    }
   ],
   "source": [
    "df = pd.read_csv( \"CsvData/sev_in.csv\" )\n",
    "\n",
    "print( len( df.columns ) )\n"
   ]
  },
  {
   "cell_type": "code",
   "execution_count": null,
   "id": "67ad0691-ef3b-4ce8-a7d5-3c1a1c660ec6",
   "metadata": {},
   "outputs": [],
   "source": []
  }
 ],
 "metadata": {
  "kernelspec": {
   "display_name": "Python 3 (ipykernel)",
   "language": "python",
   "name": "python3"
  },
  "language_info": {
   "codemirror_mode": {
    "name": "ipython",
    "version": 3
   },
   "file_extension": ".py",
   "mimetype": "text/x-python",
   "name": "python",
   "nbconvert_exporter": "python",
   "pygments_lexer": "ipython3",
   "version": "3.8.10"
  }
 },
 "nbformat": 4,
 "nbformat_minor": 5
}
