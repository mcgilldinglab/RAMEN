{
 "cells": [
  {
   "cell_type": "code",
   "execution_count": 1,
   "id": "296474d1-28cd-4c4e-8a7b-7db6dcd5b7e1",
   "metadata": {},
   "outputs": [],
   "source": [
    "from GeneticAlgorithmLauncher import SignificantEdgesToVertices, SimplifyNetworkNames\n",
    "import pickle"
   ]
  },
  {
   "cell_type": "code",
   "execution_count": 2,
   "id": "e3b97c69-6bc4-45c7-864b-d482e991ae49",
   "metadata": {},
   "outputs": [],
   "source": [
    "from VarNameTranslator import SimplifyNetworkNameSev, SimplifyNetworkNameLongCov"
   ]
  },
  {
   "cell_type": "code",
   "execution_count": 8,
   "id": "03350c87-dad3-42f7-afec-10000ae154dd",
   "metadata": {},
   "outputs": [],
   "source": [
    "AddToMappingLongCov( \"VarRefs/long_simplify_var_dict.pickle\", \"VarRefs/long_simp_var_dict2.pickle\" )"
   ]
  },
  {
   "cell_type": "code",
   "execution_count": 2,
   "id": "84465cf4-677b-48cf-b216-fac5a2d081db",
   "metadata": {},
   "outputs": [],
   "source": [
    "AddToMappingSev( \"VarRefs/sev_simplify_var_dict.pickle\", \"VarRefs/sev_simp_var_dict2.pickle\" )"
   ]
  },
  {
   "cell_type": "code",
   "execution_count": null,
   "id": "ae6e94bc-6fa3-4ff8-8122-47e359dfb4fd",
   "metadata": {},
   "outputs": [],
   "source": [
    "SimplifyNetworkNames( \"Results/AcceptedResults/long_out01005notbad.txt\", \"Results/AcceptedResults/long_covid_result_simp_test.txt\", db )"
   ]
  },
  {
   "cell_type": "code",
   "execution_count": 3,
   "id": "7629ffbe-7360-4aea-afa6-9713e19e1475",
   "metadata": {},
   "outputs": [],
   "source": [
    "SimplifyNetworkNameSev( \"Results/AcceptedResults/sev_intest075025NOTBAD.txt\", \"Results/AcceptedResults/sev_in_simplified.txt\" )"
   ]
  },
  {
   "cell_type": "code",
   "execution_count": null,
   "id": "222f1b69-7dfd-4d23-983b-5acb5e69ffaf",
   "metadata": {},
   "outputs": [],
   "source": []
  }
 ],
 "metadata": {
  "kernelspec": {
   "display_name": "Python 3 (ipykernel)",
   "language": "python",
   "name": "python3"
  },
  "language_info": {
   "codemirror_mode": {
    "name": "ipython",
    "version": 3
   },
   "file_extension": ".py",
   "mimetype": "text/x-python",
   "name": "python",
   "nbconvert_exporter": "python",
   "pygments_lexer": "ipython3",
   "version": "3.8.10"
  }
 },
 "nbformat": 4,
 "nbformat_minor": 5
}
