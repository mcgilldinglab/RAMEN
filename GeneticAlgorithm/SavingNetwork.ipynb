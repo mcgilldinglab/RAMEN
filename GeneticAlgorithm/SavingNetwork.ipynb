{
 "cells": [
  {
   "cell_type": "code",
   "execution_count": 1,
   "id": "4013b101-519c-41a1-96cf-679b3b51c090",
   "metadata": {},
   "outputs": [],
   "source": [
    "from CandidateMaker import SignificantEdgesToGraph"
   ]
  },
  {
   "cell_type": "code",
   "execution_count": 3,
   "id": "cafc01f3-5550-4ec3-bf87-407e083d0fc4",
   "metadata": {
    "tags": []
   },
   "outputs": [],
   "source": [
    "#g_long = SignificantEdgesToGraph(\"Results/AcceptedResults/long_covid_out.txt\")\n",
    "g_sev = SignificantEdgesToGraph(\"Results/AcceptedResults/severity_result.txt\")"
   ]
  },
  {
   "cell_type": "code",
   "execution_count": 4,
   "id": "42c95a51-1ab1-498e-923e-86ade358b231",
   "metadata": {},
   "outputs": [
    {
     "name": "stdout",
     "output_type": "stream",
     "text": [
      "237\n"
     ]
    }
   ],
   "source": [
    "print(g_sev.number_of_nodes())"
   ]
  },
  {
   "cell_type": "code",
   "execution_count": 7,
   "id": "af2b9321-d1f7-4036-bcf4-a1e9f0ea4c28",
   "metadata": {},
   "outputs": [],
   "source": [
    "import pickle"
   ]
  },
  {
   "cell_type": "code",
   "execution_count": 14,
   "id": "20ea4de5-e1f2-4da0-bff0-7d9097fe5dbd",
   "metadata": {},
   "outputs": [],
   "source": [
    "file = open( \"NetworkXpickles/long_cov_nx.pickle\", \"ab\" )\n",
    "pickle.dump( g_long, file )\n",
    "file.close()"
   ]
  },
  {
   "cell_type": "code",
   "execution_count": 5,
   "id": "355fa650-e238-4068-a556-2eb2b60a86f8",
   "metadata": {},
   "outputs": [],
   "source": [
    "file = open( \"NetworkXpickles/sev_cov_nx.pickle\", \"ab\" )\n",
    "pickle.dump( g_sev, file )\n",
    "file.close()"
   ]
  },
  {
   "cell_type": "code",
   "execution_count": 8,
   "id": "a9a3a757-4cc0-4262-934e-aa241d049ed5",
   "metadata": {},
   "outputs": [
    {
     "name": "stdout",
     "output_type": "stream",
     "text": [
      "237\n"
     ]
    }
   ],
   "source": [
    "file = open( \"NetworkXpickles/sev_cov_nx.pickle\", \"rb\" )\n",
    "network = pickle.load( file )\n",
    "file.close()\n",
    "print( network.number_of_nodes() )"
   ]
  },
  {
   "cell_type": "code",
   "execution_count": null,
   "id": "f5f72143-6bff-4536-8975-c4b14800d30e",
   "metadata": {},
   "outputs": [],
   "source": []
  }
 ],
 "metadata": {
  "kernelspec": {
   "display_name": "Python 3 (ipykernel)",
   "language": "python",
   "name": "python3"
  },
  "language_info": {
   "codemirror_mode": {
    "name": "ipython",
    "version": 3
   },
   "file_extension": ".py",
   "mimetype": "text/x-python",
   "name": "python",
   "nbconvert_exporter": "python",
   "pygments_lexer": "ipython3",
   "version": "3.8.10"
  }
 },
 "nbformat": 4,
 "nbformat_minor": 5
}
