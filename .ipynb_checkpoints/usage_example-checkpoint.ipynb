{
 "cells": [
  {
   "cell_type": "code",
   "execution_count": 1,
   "id": "98300d2d-04de-4244-8e9a-7f4571f9f6bb",
   "metadata": {},
   "outputs": [],
   "source": [
    "from ramen.Ramen import Ramen"
   ]
  },
  {
   "cell_type": "code",
   "execution_count": 2,
   "id": "3afadabf-386b-4ad6-ae20-4987af25a513",
   "metadata": {},
   "outputs": [
    {
     "name": "stdout",
     "output_type": "stream",
     "text": [
      "Starting removing vars with too few values, vectorizing dataframe, and initializing mutual information matrix, this might take a few minutes.\n",
      "Removed 7 variables because of insufficient data. If deleted too many, please adjust the bad_var_threshold\n",
      "done\n"
     ]
    }
   ],
   "source": [
    "long = \"Long Covid\"\n",
    "bowl = Ramen( \"ramen/csv/example.csv\", end_string = long )"
   ]
  },
  {
   "cell_type": "code",
   "execution_count": 3,
   "id": "cd7e3904-bf91-4dfc-9192-39154a5ef999",
   "metadata": {},
   "outputs": [
    {
     "name": "stdout",
     "output_type": "stream",
     "text": [
      "Optimization terminated successfully.\n",
      "         Current function value: 0.707243\n",
      "         Iterations: 12\n",
      "         Function evaluations: 13\n",
      "         Gradient evaluations: 13\n"
     ]
    }
   ],
   "source": [
    "bowl.random_walk( 10, 5000, 7, p_value = 0.05, mode = \"default\" )"
   ]
  },
  {
   "cell_type": "code",
   "execution_count": 4,
   "id": "8d6c7e51-fc5f-43ff-a323-0c552647ee49",
   "metadata": {},
   "outputs": [
    {
     "name": "stdout",
     "output_type": "stream",
     "text": [
      "77\n",
      "initializing scorer\n",
      "done initializing scorer\n",
      "making candidates\n",
      "Finished making candidates in: 1.1027732549700886\n",
      "starting Genetic Algorithm\n",
      "-37.47284485061626\n",
      "generation: 0 best: -36.69579387265227\n",
      "generation: 1 best: -36.4460625911486\n",
      "generation: 2 best: -35.81825376924713\n",
      "generation: 3 best: -35.57877009818843\n",
      "generation: 4 best: -35.34928642712973\n",
      "generation: 5 best: -35.144065494857436\n",
      "generation: 6 best: -34.88310952085446\n",
      "generation: 7 best: -34.65146435003953\n",
      "generation: 8 best: -34.54045410030531\n",
      "generation: 9 best: -34.39932535157307\n"
     ]
    }
   ],
   "source": [
    "bowl.genetic_algorithm( hard_stop = 10 )"
   ]
  },
  {
   "cell_type": "code",
   "execution_count": 5,
   "id": "1722908f-8b59-4e94-ba46-a29f6b407b1c",
   "metadata": {},
   "outputs": [
    {
     "data": {
      "text/plain": [
       "<networkx.classes.digraph.DiGraph at 0x7f5a23527670>"
      ]
     },
     "execution_count": 5,
     "metadata": {},
     "output_type": "execute_result"
    }
   ],
   "source": [
    "bowl.network"
   ]
  },
  {
   "cell_type": "code",
   "execution_count": 6,
   "id": "f3bfb9e9-d08a-48ce-81d5-044529abcac5",
   "metadata": {},
   "outputs": [
    {
     "data": {
      "text/plain": [
       "[('ACE inhibitor or Angiotensin Receptor Blocker?', 'Fever (?38.0 Celcius) ?'),\n",
       " ('ACE inhibitor or Angiotensin Receptor Blocker?', 'HGO or insulin?'),\n",
       " ('ACE inhibitor or Angiotensin Receptor Blocker?', 'Long Covid'),\n",
       " ('Fever (?38.0 Celcius) ?', 'Long Covid'),\n",
       " ('HGO or insulin?', 'Chest pain ?'),\n",
       " ('HGO or insulin?', 'Long Covid'),\n",
       " ('Abdominal pain ?', 'Long Covid'),\n",
       " ('Age au recrutement:', 'Long Covid'),\n",
       " ('Anticoagulants?', 'Long Covid'),\n",
       " ('Anticoagulants?', 'Systemic corticosteroid?'),\n",
       " ('Systemic corticosteroid?', 'Colchicine?'),\n",
       " ('Systemic corticosteroid?', 'Long Covid'),\n",
       " ('Arterial Hypertension ?', 'ACE inhibitor or Angiotensin Receptor Blocker?'),\n",
       " ('Arterial Hypertension ?', 'Long Covid'),\n",
       " ('Asthma ?', 'Long Covid'),\n",
       " ('Asymptomatic?', 'Confusion / altered mental status ?'),\n",
       " ('Asymptomatic?', 'Headache ?'),\n",
       " ('Asymptomatic?', 'Long Covid'),\n",
       " ('Asymptomatic?', 'Runny nose (Rhinorrhea) ?'),\n",
       " ('Confusion / altered mental status ?', 'Long Covid'),\n",
       " ('Headache ?', 'Long Covid'),\n",
       " ('Runny nose (Rhinorrhea) ?', 'Long Covid'),\n",
       " ('Runny nose (Rhinorrhea) ?',\n",
       "  'Other chronic neurological disorder (other than stroke/TIA) ?'),\n",
       " ('Atrial fibrillation or flutter ?', 'Long Covid'),\n",
       " ('BMI:', 'Long Covid'),\n",
       " ('BMI:', 'Malignant neoplasm ?'),\n",
       " ('Malignant neoplasm ?', 'Long Covid'),\n",
       " ('COPD (emphysema, chronic bronchitis) ?', 'Long Covid'),\n",
       " ('Chest pain ?', 'Joint pain (Arthralgia) ?'),\n",
       " ('Chest pain ?', 'Long Covid'),\n",
       " ('Joint pain (Arthralgia) ?', 'Long Covid'),\n",
       " ('Chronic hematologic disease ?', 'Long Covid'),\n",
       " ('Chronic kidney disease ?', 'Long Covid'),\n",
       " ('Colchicine?', 'Long Covid'),\n",
       " ('Coronary artery disease ?', 'Long Covid'),\n",
       " ('Cough ?', 'Asymptomatic?'),\n",
       " ('Cough ?', 'Long Covid'),\n",
       " ('Dementia ? ', 'Long Covid'),\n",
       " ('Diabetes ?', 'Long Covid'),\n",
       " ('Diarrhea ?', 'Long Covid'),\n",
       " ('Dizziness ?', 'Long Covid'),\n",
       " ('Drugs?', 'Long Covid'),\n",
       " ('Ear pain ?', 'Long Covid'),\n",
       " ('Electronic cigarettes?', 'Long Covid'),\n",
       " ('Extremity weakness or numbness ?', 'Long Covid'),\n",
       " ('Fatigue ?', 'Long Covid'),\n",
       " ('HIV or AIDS ?', 'Long Covid'),\n",
       " ('Heart failure ?', 'Long Covid'),\n",
       " ('Height in m:', 'Long Covid'),\n",
       " ('Hemoptysis / Bloody sputum ?', 'Long Covid'),\n",
       " ('If a screening test for SARS-CoV-2 by PCR was performed, what is the most severe severity level (according to WHO) achieved?',\n",
       "  'Long Covid'),\n",
       " ('Immunosupressed state?', 'Long Covid'),\n",
       " ('Is the participant employed as a Healthcare Worker?  ', 'Long Covid'),\n",
       " ('Is the participant employed in a Microbiology Laboratory?  ', 'Long Covid'),\n",
       " ('Leg swelling (Edema) ?', 'Long Covid'),\n",
       " ('Liver disease ?', 'Long Covid'),\n",
       " ('Loss of appetite ?', 'Long Covid'),\n",
       " ('Loss of taste / lost of smell ?', 'Long Covid'),\n",
       " ('Malnutrition ?', 'Long Covid'),\n",
       " ('Muscle aches (Myalgia) ?', 'Long Covid'),\n",
       " ('Nausea / vomiting ?', 'Long Covid'),\n",
       " ('Number of comorbidities: ', 'Long Covid'),\n",
       " ('Obesity ?', 'Long Covid'),\n",
       " ('Other chronic cardiac disease ?', 'Long Covid'),\n",
       " ('Other chronic lung disease ? ', 'Long Covid'),\n",
       " ('Other chronic neurological disorder (other than stroke/TIA) ?',\n",
       "  'Long Covid'),\n",
       " ('Other immunosuppressive medications?',\n",
       "  'ACE inhibitor or Angiotensin Receptor Blocker?'),\n",
       " ('Other immunosuppressive medications?', 'Long Covid'),\n",
       " ('Patient pregnant?', 'Long Covid'),\n",
       " ('Please specify drugs used. (choice=Amphetamines)', 'Long Covid'),\n",
       " ('Please specify drugs used. (choice=Cannabis)', 'Long Covid'),\n",
       " ('Please specify drugs used. (choice=Cocaine)', 'Long Covid'),\n",
       " ('Please specify drugs used. (choice=Opiods)', 'Long Covid'),\n",
       " ('Please specify drugs used. (choice=Other)', 'Long Covid'),\n",
       " ('Prior myocardial infarction ?', 'Long Covid'),\n",
       " ('Prior stroke ? ', 'Long Covid'),\n",
       " ('Prior transient ischemic attack (TIA) ?', 'Long Covid'),\n",
       " ('Psychiatric disease?', 'Long Covid'),\n",
       " ('Pulmonary hypertension ?', 'Long Covid'),\n",
       " ('Red eye (Conjunctivitis) ?', 'Long Covid'),\n",
       " ('Rheumatologic disease ?', 'Long Covid'),\n",
       " ('Seizure ?', 'Long Covid'),\n",
       " ('Sex at birth:', 'ACE inhibitor or Angiotensin Receptor Blocker?'),\n",
       " ('Sex at birth:', 'Long Covid'),\n",
       " ('Shortness of breath (Dyspnea) ?', 'Long Covid'),\n",
       " ('Skin rash ?', 'Long Covid'),\n",
       " ('Smoking status:', 'Long Covid'),\n",
       " ('Sore throat ?', 'Long Covid'),\n",
       " ('Trouble speaking (Aphasia / Dysphasia) ?', 'Long Covid'),\n",
       " ('Weight in kg:', 'BMI:'),\n",
       " ('Weight in kg:', 'Long Covid'),\n",
       " ('Weight in kg:', 'Sex at birth:'),\n",
       " ('Wheezing or stridor ?', 'Long Covid')]"
      ]
     },
     "execution_count": 6,
     "metadata": {},
     "output_type": "execute_result"
    }
   ],
   "source": [
    "list(bowl.network.edges)"
   ]
  }
 ],
 "metadata": {
  "kernelspec": {
   "display_name": "Python 3 (ipykernel)",
   "language": "python",
   "name": "python3"
  },
  "language_info": {
   "codemirror_mode": {
    "name": "ipython",
    "version": 3
   },
   "file_extension": ".py",
   "mimetype": "text/x-python",
   "name": "python",
   "nbconvert_exporter": "python",
   "pygments_lexer": "ipython3",
   "version": "3.8.10"
  }
 },
 "nbformat": 4,
 "nbformat_minor": 5
}
