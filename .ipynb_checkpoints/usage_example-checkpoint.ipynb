{
 "cells": [
  {
   "cell_type": "code",
   "execution_count": 1,
   "id": "98300d2d-04de-4244-8e9a-7f4571f9f6bb",
   "metadata": {},
   "outputs": [],
   "source": [
    "from Ramen import Ramen"
   ]
  },
  {
   "cell_type": "code",
   "execution_count": 2,
   "id": "3afadabf-386b-4ad6-ae20-4987af25a513",
   "metadata": {},
   "outputs": [
    {
     "name": "stdout",
     "output_type": "stream",
     "text": [
      "Starting removing vars with too few values, vectorizing dataframe, and initializing mutual information matrix, this might take a few minutes.\n",
      "Removed 7 variables because of insufficient data. If deleted too many, please adjust the bad_var_threshold\n",
      "done\n"
     ]
    }
   ],
   "source": [
    "long = \"Long Covid\"\n",
    "bowl = Ramen( \"csv/example.csv\", end_string = long )"
   ]
  },
  {
   "cell_type": "code",
   "execution_count": 3,
   "id": "cd7e3904-bf91-4dfc-9192-39154a5ef999",
   "metadata": {},
   "outputs": [
    {
     "name": "stdout",
     "output_type": "stream",
     "text": [
      "Optimization terminated successfully.\n",
      "         Current function value: 0.947086\n",
      "         Iterations: 11\n",
      "         Function evaluations: 12\n",
      "         Gradient evaluations: 12\n"
     ]
    }
   ],
   "source": [
    "bowl.random_walk( 10, 5000, 7, p_value = 0.05, mode = \"default\" )"
   ]
  },
  {
   "cell_type": "code",
   "execution_count": 4,
   "id": "8d6c7e51-fc5f-43ff-a323-0c552647ee49",
   "metadata": {},
   "outputs": [
    {
     "name": "stdout",
     "output_type": "stream",
     "text": [
      "27\n",
      "initializing scorer\n",
      "done initializing scorer\n",
      "making candidates\n",
      "Finished making candidates in: 0.3586160469567403\n",
      "starting Genetic Algorithm\n",
      "-9.930437095946981\n",
      "generation: 0 best: -9.683274512828902\n",
      "generation: 1 best: -9.62292284985723\n",
      "generation: 2 best: -9.41232509449737\n",
      "generation: 3 best: -9.382604851777845\n",
      "generation: 4 best: -9.317785488719599\n",
      "generation: 5 best: -9.24776607565673\n",
      "generation: 6 best: -9.232740930183393\n",
      "generation: 7 best: -9.221420042728335\n",
      "generation: 8 best: -9.206394897255\n",
      "generation: 9 best: -9.175137465515943\n",
      "generation: 10 best: -9.164882400687521\n",
      "generation: 11 best: -9.164302607178431\n",
      "generation: 12 best: -9.151586178905067\n",
      "generation: 13 best: -9.133258772612745\n",
      "generation: 14 best: -9.124064002631997\n",
      "generation: 15 best: -9.092516137439372\n",
      "generation: 16 best: -9.065719345085821\n",
      "generation: 17 best: -9.015512729448265\n",
      "generation: 18 best: -8.969874737431965\n",
      "generation: 19 best: -8.951437858812126\n"
     ]
    }
   ],
   "source": [
    "bowl.genetic_algorithm( hard_stop = 20 )"
   ]
  },
  {
   "cell_type": "code",
   "execution_count": 5,
   "id": "1722908f-8b59-4e94-ba46-a29f6b407b1c",
   "metadata": {},
   "outputs": [
    {
     "data": {
      "text/plain": [
       "<networkx.classes.digraph.DiGraph at 0x7f390973dd90>"
      ]
     },
     "execution_count": 5,
     "metadata": {},
     "output_type": "execute_result"
    }
   ],
   "source": [
    "bowl.network"
   ]
  },
  {
   "cell_type": "code",
   "execution_count": 6,
   "id": "f3bfb9e9-d08a-48ce-81d5-044529abcac5",
   "metadata": {},
   "outputs": [
    {
     "data": {
      "text/plain": [
       "[('ACE inhibitor or Angiotensin Receptor Blocker?', 'Anticoagulants?'),\n",
       " ('ACE inhibitor or Angiotensin Receptor Blocker?', 'Long Covid'),\n",
       " ('ACE inhibitor or Angiotensin Receptor Blocker?',\n",
       "  'Systemic corticosteroid?'),\n",
       " ('ACE inhibitor or Angiotensin Receptor Blocker?',\n",
       "  'Trouble speaking (Aphasia / Dysphasia) ?'),\n",
       " ('Anticoagulants?', 'Long Covid'),\n",
       " ('Systemic corticosteroid?', 'Colchicine?'),\n",
       " ('Systemic corticosteroid?', 'Long Covid'),\n",
       " ('Trouble speaking (Aphasia / Dysphasia) ?', 'Long Covid'),\n",
       " ('Abdominal pain ?', 'Long Covid'),\n",
       " ('Age au recrutement:', 'Long Covid'),\n",
       " ('Arterial Hypertension ?', 'Long Covid'),\n",
       " ('Asthma ?', 'Long Covid'),\n",
       " ('Asymptomatic?', 'Abdominal pain ?'),\n",
       " ('Asymptomatic?', 'Chest pain ?'),\n",
       " ('Asymptomatic?', 'Ear pain ?'),\n",
       " ('Asymptomatic?', 'Extremity weakness or numbness ?'),\n",
       " ('Asymptomatic?', 'Fatigue ?'),\n",
       " ('Asymptomatic?', 'Long Covid'),\n",
       " ('Asymptomatic?', 'Loss of taste / lost of smell ?'),\n",
       " ('Asymptomatic?', 'Muscle aches (Myalgia) ?'),\n",
       " ('Asymptomatic?', 'Nausea / vomiting ?'),\n",
       " ('Asymptomatic?', 'Sore throat ?'),\n",
       " ('Chest pain ?', 'ACE inhibitor or Angiotensin Receptor Blocker?'),\n",
       " ('Chest pain ?', 'Long Covid'),\n",
       " ('Ear pain ?', 'Long Covid'),\n",
       " ('Extremity weakness or numbness ?', 'Long Covid'),\n",
       " ('Fatigue ?', 'Long Covid'),\n",
       " ('Loss of taste / lost of smell ?', 'Long Covid'),\n",
       " ('Muscle aches (Myalgia) ?', 'Long Covid'),\n",
       " ('Nausea / vomiting ?', 'Long Covid'),\n",
       " ('Sore throat ?', 'Long Covid'),\n",
       " ('Atrial fibrillation or flutter ?', 'Long Covid'),\n",
       " ('BMI:', 'Long Covid'),\n",
       " ('BMI:', 'Weight in kg:'),\n",
       " ('Weight in kg:',\n",
       "  'If a screening test for SARS-CoV-2 by PCR was performed, what is the most severe severity level (according to WHO) achieved?'),\n",
       " ('Weight in kg:', 'Long Covid'),\n",
       " ('COPD (emphysema, chronic bronchitis) ?', 'Long Covid'),\n",
       " ('Chronic hematologic disease ?', 'Long Covid'),\n",
       " ('Chronic kidney disease ?', 'Long Covid'),\n",
       " ('Colchicine?', 'Long Covid'),\n",
       " ('Colchicine?', 'Smoking status:'),\n",
       " ('Smoking status:', 'Long Covid'),\n",
       " ('Confusion / altered mental status ?', 'Long Covid'),\n",
       " ('Coronary artery disease ?', 'Long Covid'),\n",
       " ('Cough ?', 'Long Covid'),\n",
       " ('Dementia ? ', 'Long Covid'),\n",
       " ('Diabetes ?', 'HGO or insulin?'),\n",
       " ('Diabetes ?', 'Long Covid'),\n",
       " ('HGO or insulin?', 'Long Covid'),\n",
       " ('HGO or insulin?', 'Other immunosuppressive medications?'),\n",
       " ('Diarrhea ?', 'Long Covid'),\n",
       " ('Dizziness ?', 'Long Covid'),\n",
       " ('Drugs?', 'Long Covid'),\n",
       " ('Drugs?', 'Please specify drugs used. (choice=Cannabis)'),\n",
       " ('Please specify drugs used. (choice=Cannabis)', 'Long Covid'),\n",
       " ('Electronic cigarettes?', 'Diabetes ?'),\n",
       " ('Electronic cigarettes?', 'Long Covid'),\n",
       " ('Fever (?38.0 Celcius) ?', 'Long Covid'),\n",
       " ('Other immunosuppressive medications?', 'Long Covid'),\n",
       " ('HIV or AIDS ?', 'Long Covid'),\n",
       " ('Headache ?', 'Long Covid'),\n",
       " ('Heart failure ?', 'Long Covid'),\n",
       " ('Height in m:', 'Long Covid'),\n",
       " ('Hemoptysis / Bloody sputum ?', 'Long Covid'),\n",
       " ('If a screening test for SARS-CoV-2 by PCR was performed, what is the most severe severity level (according to WHO) achieved?',\n",
       "  'Long Covid'),\n",
       " ('Immunosupressed state?', 'Asymptomatic?'),\n",
       " ('Immunosupressed state?', 'Long Covid'),\n",
       " ('Is the participant employed as a Healthcare Worker?  ', 'Long Covid'),\n",
       " ('Is the participant employed in a Microbiology Laboratory?  ', 'Long Covid'),\n",
       " ('Joint pain (Arthralgia) ?', 'Asymptomatic?'),\n",
       " ('Joint pain (Arthralgia) ?', 'Long Covid'),\n",
       " ('Leg swelling (Edema) ?', 'Long Covid'),\n",
       " ('Liver disease ?', 'HGO or insulin?'),\n",
       " ('Liver disease ?', 'Long Covid'),\n",
       " ('Loss of appetite ?', 'Long Covid'),\n",
       " ('Malignant neoplasm ?', 'Long Covid'),\n",
       " ('Malnutrition ?', 'Long Covid'),\n",
       " ('Number of comorbidities: ', 'Long Covid'),\n",
       " ('Obesity ?', 'Long Covid'),\n",
       " ('Other chronic cardiac disease ?', 'Long Covid'),\n",
       " ('Other chronic lung disease ? ', 'Long Covid'),\n",
       " ('Other chronic neurological disorder (other than stroke/TIA) ?',\n",
       "  'Long Covid'),\n",
       " ('Patient pregnant?', 'Long Covid'),\n",
       " ('Please specify drugs used. (choice=Amphetamines)', 'Long Covid'),\n",
       " ('Please specify drugs used. (choice=Cocaine)', 'Long Covid'),\n",
       " ('Please specify drugs used. (choice=Opiods)', 'Long Covid'),\n",
       " ('Please specify drugs used. (choice=Other)', 'Long Covid'),\n",
       " ('Prior myocardial infarction ?', 'Long Covid'),\n",
       " ('Prior stroke ? ', 'Long Covid'),\n",
       " ('Prior transient ischemic attack (TIA) ?', 'Long Covid'),\n",
       " ('Psychiatric disease?', 'Long Covid'),\n",
       " ('Pulmonary hypertension ?', 'Long Covid'),\n",
       " ('Red eye (Conjunctivitis) ?', 'Long Covid'),\n",
       " ('Rheumatologic disease ?', 'Long Covid'),\n",
       " ('Runny nose (Rhinorrhea) ?', 'HGO or insulin?'),\n",
       " ('Runny nose (Rhinorrhea) ?', 'Long Covid'),\n",
       " ('Seizure ?', 'Long Covid'),\n",
       " ('Sex at birth:', 'Long Covid'),\n",
       " ('Sex at birth:', 'Weight in kg:'),\n",
       " ('Shortness of breath (Dyspnea) ?', 'Long Covid'),\n",
       " ('Skin rash ?', 'Long Covid'),\n",
       " ('Wheezing or stridor ?', 'Long Covid')]"
      ]
     },
     "execution_count": 6,
     "metadata": {},
     "output_type": "execute_result"
    }
   ],
   "source": [
    "list(bowl.network.edges)"
   ]
  }
 ],
 "metadata": {
  "kernelspec": {
   "display_name": "Python 3 (ipykernel)",
   "language": "python",
   "name": "python3"
  },
  "language_info": {
   "codemirror_mode": {
    "name": "ipython",
    "version": 3
   },
   "file_extension": ".py",
   "mimetype": "text/x-python",
   "name": "python",
   "nbconvert_exporter": "python",
   "pygments_lexer": "ipython3",
   "version": "3.8.10"
  }
 },
 "nbformat": 4,
 "nbformat_minor": 5
}
